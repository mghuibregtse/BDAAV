{
 "cells": [
  {
   "cell_type": "markdown",
   "metadata": {},
   "source": [
    "# Opdracht oefenen met Pandas (dataset 'Wildlife Airstrikes')"
   ]
  },
  {
   "cell_type": "markdown",
   "metadata": {},
   "source": [
    "## Het bestand *wildlife_strikes.csv* bevat data over dieren die in aanraking zijn gekomen met vliegtuigen. Dit is echte data die afkomstig is uit rapporten van de Amerikaanse Federal Aviation Association. Schrijf Python code om de volgende vragen te beantwoorden:"
   ]
  },
  {
   "cell_type": "markdown",
   "metadata": {},
   "source": [
    "1) Laad het bestand in als DataFrame en toon de eerste 5 rijen van de tabel"
   ]
  },
  {
   "cell_type": "code",
   "execution_count": null,
   "metadata": {},
   "outputs": [],
   "source": [
    "import pandas as pd\n",
    "import numpy as np\n",
    "import matplotlib.pyplot as plt\n",
    "strikes = pd.read_csv('wildlife_strikes.csv')\n",
    "strikes.head(5)"
   ]
  },
  {
   "cell_type": "markdown",
   "metadata": {},
   "source": [
    "2) Geef de vluchten weer waarbij mensen om het leven zijn gekomen.Toon de volgende kolommen:\n",
    "\n",
    "  * Incident Year\n",
    "  * Operator\n",
    "  * Aircraft\n",
    "  * Airport\n",
    "  * Flight Phase\n",
    "  * Height\n",
    "  * Speed\n",
    "  * Species Name\n",
    "  * Flight Impact\n",
    "  * Fatalities"
   ]
  },
  {
   "cell_type": "code",
   "execution_count": null,
   "metadata": {},
   "outputs": [],
   "source": [
    "columns = ['Incident Year', 'Operator', 'Aircraft', 'Airport', 'Flight Phase', \n",
    "           'Height', 'Speed', 'Species Name', 'Flight Impact', 'Fatalities']\n",
    "\n",
    "strikes.query(\"Fatalities > 0\")[columns]\n",
    "\n",
    "# of:\n",
    "# strikes[strikes['Fatalities']>0][columns]"
   ]
  },
  {
   "cell_type": "markdown",
   "metadata": {},
   "source": [
    "3) Gebruik matplotlib om een lijngrafiek te maken die het aantal incidenten per jaar toont. Op de x-as staan de jaartallen en op de y-as het aantal incidenten."
   ]
  },
  {
   "cell_type": "code",
   "execution_count": null,
   "metadata": {},
   "outputs": [],
   "source": [
    "strikes.groupby('Incident Year').size().plot()\n",
    "plt.ylabel('Number of incidents')\n",
    "plt.show()"
   ]
  },
  {
   "cell_type": "markdown",
   "metadata": {},
   "source": [
    "4) Wat is de hoogste snelheid waarmee een vliegtuig een dier heeft geraakt? Toon van dit incident de volgende kolommen:\n",
    "\n",
    "  * Incident Year\n",
    "  * Operator\n",
    "  * Aircraft\n",
    "  * Speed\n",
    "  * Species Name"
   ]
  },
  {
   "cell_type": "code",
   "execution_count": null,
   "metadata": {},
   "outputs": [],
   "source": [
    "columns = ['Incident Year', 'Operator', 'Aircraft', 'Speed', 'Species Name']\n",
    "strikes.query(\"Speed == Speed.max()\")[columns]\n",
    "\n",
    "# of:\n",
    "# strikes[strikes['Speed'] == strikes['Speed'].max()][columns]"
   ]
  },
  {
   "cell_type": "markdown",
   "metadata": {},
   "source": [
    "5) Wat is de gemiddelde hoogte waarop de incidenten plaatsvinden? Laat bij je berekening alle incidenten die op de grond plaatsvinden buiten beschouwing."
   ]
  },
  {
   "cell_type": "code",
   "execution_count": null,
   "metadata": {},
   "outputs": [],
   "source": [
    "strikes.query(\"Height != 0\")['Height'].mean()\n",
    "\n",
    "# of:\n",
    "# strikes[strikes['Height']!=0]['Height'].mean()"
   ]
  },
  {
   "cell_type": "markdown",
   "metadata": {},
   "source": [
    "6) Toon in een staafgrafiek het aantal incidenten per maand. Op de x-as staan dus de maanden, en op de y-as het aantal incidenten."
   ]
  },
  {
   "cell_type": "code",
   "execution_count": null,
   "metadata": {},
   "outputs": [],
   "source": [
    "import calendar\n",
    "strikes.groupby('Incident Month').size().plot.bar()\n",
    "plt.ylabel('Total no. of incidents')\n",
    "plt.xticks(np.arange(12), calendar.month_abbr[1:13])\n",
    "plt.show()"
   ]
  },
  {
   "cell_type": "markdown",
   "metadata": {},
   "source": [
    "7) Vinden incidenten 's nachts op een andere hoogte plaats dan overdag? Toon in een staafgrafiek de gemiddelde hoogte waarop incidenten plaatsvonden, uitgesplitst op de kolom 'Visibility'. Op de x-as staat dus de visibility en op de y-as de gemiddelde hoogte."
   ]
  },
  {
   "cell_type": "code",
   "execution_count": null,
   "metadata": {},
   "outputs": [],
   "source": [
    "strikes.groupby('Visibility')['Height'].mean().plot.bar()\n",
    "plt.show()"
   ]
  },
  {
   "cell_type": "markdown",
   "metadata": {},
   "source": [
    "8) Toon alle diersoorten uit de tabel netjes onder elkaar, waarbij ieder dier maar één keer mag voorkomen. Sorteer op alfabetische volgorde."
   ]
  },
  {
   "cell_type": "code",
   "execution_count": null,
   "metadata": {},
   "outputs": [],
   "source": [
    "uniek = strikes['Species Name'].sort_values().unique()\n",
    "mask = pd.notnull(uniek)  #Om de regel met NaN te verwijderen\n",
    "uniek = uniek[mask]       #Om de regel met NaN te verwijderen\n",
    "pd.DataFrame(uniek)"
   ]
  },
  {
   "cell_type": "markdown",
   "metadata": {},
   "source": [
    "Het bestand 'birds.txt' bevat Engelse namen van bijna 1000 vogelsoorten. Gebruik dit bestand om de volgende vraag te kunnen maken.\n",
    "\n",
    "9) Toon alle dieren uit de dataset, die géén vogels zijn. Toon twee kolommen: de naam van het dier en hoe vaak hij voorkomt in de dataset. Sorteer op de tweede kolom (van hoog naar laag)."
   ]
  },
  {
   "cell_type": "code",
   "execution_count": null,
   "metadata": {},
   "outputs": [],
   "source": [
    "birds = np.loadtxt('birds.txt', dtype=str, delimiter=\",\")\n",
    "\n",
    "not_birds = strikes[(~strikes['Species Name'].isin(birds)) &   # ipv ~ kan ook ==False\n",
    "        (strikes['Species Name'].str.contains('BIRD')==False)]\n",
    "\n",
    "# of:\n",
    "# notnull = strikes[pd.notnull(strikes['Species Name'])]\n",
    "# not_birds = notnull.query(\"`Species Name` not in @birds and \\\n",
    "#                            not `Species Name`.str.contains('BIRD')\")\n",
    "\n",
    "#Om alle output te laten zien kun je de volgende coderegel gebruiken:\n",
    "#pd.set_option('display.max_rows', None)\n",
    "#En om de optie weer uit te zetten kun je later in de notebook de volgende regel gebruiken:\n",
    "#pd.reset_option('display.max_rows')\n",
    "\n",
    "not_birds.groupby('Species Name').size().sort_values(ascending=False)"
   ]
  },
  {
   "cell_type": "markdown",
   "metadata": {},
   "source": [
    "10) Er zijn veertien kolommen die aangeven of een onderdeel van het vliegtuig beschadigd is geraakt (van *Radome Damage* t/m *Other Damage*). Laat zien bij welke incidenten het grootste aantal onderdelen van het vliegtuig beschadigd zijn geraakt. Toon de kolommen *Aircraft*, *Species Name* en alle veertien damage kolommen."
   ]
  },
  {
   "cell_type": "code",
   "execution_count": null,
   "metadata": {},
   "outputs": [],
   "source": [
    "damage_columns = ['Radome Damage', 'Windshield Damage', 'Nose Damage', 'Engine1 Damage', 'Engine2 Damage', \n",
    "           'Engine3 Damage', 'Engine4 Damage', 'Propeller Damage', 'Wing or Rotor Damage', \n",
    "           'Fuselage Damage', 'Landing Gear Damage', 'Tail Damage', 'Lights Damage', 'Other Damage']\n",
    "show_columns = ['Aircraft', 'Species Name'] + damage_columns\n",
    "sum_damage = strikes[damage_columns].sum(axis = 1)\n",
    "strikes[sum_damage == sum_damage.max()][show_columns]\n",
    "# of:\n",
    "# strikes.query(\"@sum_damage == @sum_damage.max()\")[show_columns]"
   ]
  },
  {
   "cell_type": "markdown",
   "metadata": {},
   "source": [
    "11) Toon van alle diersoorten die in de dataset voorkomen de volgende gegevens:\n",
    "* de maximale hoogte waarop een individu van de soort in aanraking is gekomen met een vliegtuig\n",
    "* de minimale hoogte\n",
    "* de gemiddelde hoogte\n",
    "* het aantal incidenten waarbij deze diersoort betrokken was\n",
    "\n",
    "Zorg dat je alle incidenten die op de grond (height=0) plaatsvinden niet meeneemt. Sorteer op de maximale hoogte (van hoog naar laag).\n",
    "\n",
    "De geoorde fuut (eared grebe, *Podiceps nigricollis*) vliegt volgens de IUCN (International Union for Conservation of Nature) op een maximale hoogte van 2500 meter ([link](http://www.iucnredlist.org/details/22696610/0)). De *wildlife strikes* dataset toont de hoogte in *feet*. Geeft deze dataset reden om ons beeld van deze fuut bij te stellen?"
   ]
  },
  {
   "cell_type": "code",
   "execution_count": null,
   "metadata": {},
   "outputs": [],
   "source": [
    "pd.set_option('display.max_rows', None)\n",
    "grouped_by_species = strikes.query(\"Height > 0\").groupby('Species Name')\n",
    "# of: \n",
    "# grouped_by_species = strikes[strikes['Height']>0].groupby('Species Name')\n",
    "grouped_by_species['Height'].agg(['max', 'min', 'mean', 'count']).sort_values(by='max', ascending=False)\n",
    "\n",
    "#EARED GREBE: 20000 feet = 6096 meter. Dus veel hoger dan wat bekend is."
   ]
  },
  {
   "cell_type": "markdown",
   "metadata": {},
   "source": [
    "12) Hoeveel incidenten hebben plaatsgevonden waarbij een dier betrokken was dat begint met de letter 'Z'?"
   ]
  },
  {
   "cell_type": "code",
   "execution_count": null,
   "metadata": {},
   "outputs": [],
   "source": [
    "notnull = strikes[pd.notnull(strikes['Species Name'])]\n",
    "len(notnull[notnull['Species Name'].str.startswith(\"Z\")])"
   ]
  }
 ],
 "metadata": {
  "kernelspec": {
   "display_name": "Python 3 (ipykernel)",
   "language": "python",
   "name": "python3"
  },
  "language_info": {
   "codemirror_mode": {
    "name": "ipython",
    "version": 3
   },
   "file_extension": ".py",
   "mimetype": "text/x-python",
   "name": "python",
   "nbconvert_exporter": "python",
   "pygments_lexer": "ipython3",
   "version": "3.9.15"
  }
 },
 "nbformat": 4,
 "nbformat_minor": 2
}
