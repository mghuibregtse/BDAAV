{
 "cells": [
  {
   "cell_type": "markdown",
   "metadata": {},
   "source": [
    "# Bdaav College - Pandas: een data set openen en uitlezen"
   ]
  },
  {
   "cell_type": "code",
   "execution_count": 1,
   "metadata": {},
   "outputs": [],
   "source": [
    "import pandas as pd"
   ]
  },
  {
   "cell_type": "markdown",
   "metadata": {},
   "source": [
    "Open de dataset *ufo_sightings.csv* in Excel en bekijk de data. We laden de dataset vervolgens in met *read_csv* en tonen de eerste 5 rijen met *head()*. "
   ]
  },
  {
   "cell_type": "code",
   "execution_count": 2,
   "metadata": {},
   "outputs": [
    {
     "data": {
      "text/html": [
       "<div>\n",
       "<style scoped>\n",
       "    .dataframe tbody tr th:only-of-type {\n",
       "        vertical-align: middle;\n",
       "    }\n",
       "\n",
       "    .dataframe tbody tr th {\n",
       "        vertical-align: top;\n",
       "    }\n",
       "\n",
       "    .dataframe thead th {\n",
       "        text-align: right;\n",
       "    }\n",
       "</style>\n",
       "<table border=\"1\" class=\"dataframe\">\n",
       "  <thead>\n",
       "    <tr style=\"text-align: right;\">\n",
       "      <th></th>\n",
       "      <th>datetime</th>\n",
       "      <th>city</th>\n",
       "      <th>state</th>\n",
       "      <th>country</th>\n",
       "      <th>shape</th>\n",
       "      <th>duration</th>\n",
       "      <th>comments</th>\n",
       "      <th>latitude</th>\n",
       "      <th>longitude</th>\n",
       "    </tr>\n",
       "  </thead>\n",
       "  <tbody>\n",
       "    <tr>\n",
       "      <th>0</th>\n",
       "      <td>10/10/1949 20:30</td>\n",
       "      <td>san marcos</td>\n",
       "      <td>tx</td>\n",
       "      <td>us</td>\n",
       "      <td>cylinder</td>\n",
       "      <td>2700.0</td>\n",
       "      <td>This event took place in early fall around 194...</td>\n",
       "      <td>29.883056</td>\n",
       "      <td>-97.941111</td>\n",
       "    </tr>\n",
       "    <tr>\n",
       "      <th>1</th>\n",
       "      <td>10/10/1949 21:00</td>\n",
       "      <td>lackland afb</td>\n",
       "      <td>tx</td>\n",
       "      <td>NaN</td>\n",
       "      <td>light</td>\n",
       "      <td>7200.0</td>\n",
       "      <td>1949 Lackland AFB&amp;#44 TX.  Lights racing acros...</td>\n",
       "      <td>29.384210</td>\n",
       "      <td>-98.581082</td>\n",
       "    </tr>\n",
       "    <tr>\n",
       "      <th>2</th>\n",
       "      <td>10/10/1955 17:00</td>\n",
       "      <td>chester (uk/england)</td>\n",
       "      <td>NaN</td>\n",
       "      <td>gb</td>\n",
       "      <td>circle</td>\n",
       "      <td>20.0</td>\n",
       "      <td>Green/Orange circular disc over Chester&amp;#44 En...</td>\n",
       "      <td>53.200000</td>\n",
       "      <td>-2.916667</td>\n",
       "    </tr>\n",
       "    <tr>\n",
       "      <th>3</th>\n",
       "      <td>10/10/1956 21:00</td>\n",
       "      <td>edna</td>\n",
       "      <td>tx</td>\n",
       "      <td>us</td>\n",
       "      <td>circle</td>\n",
       "      <td>20.0</td>\n",
       "      <td>My older brother and twin sister were leaving ...</td>\n",
       "      <td>28.978333</td>\n",
       "      <td>-96.645833</td>\n",
       "    </tr>\n",
       "    <tr>\n",
       "      <th>4</th>\n",
       "      <td>10/10/1960 20:00</td>\n",
       "      <td>kaneohe</td>\n",
       "      <td>hi</td>\n",
       "      <td>us</td>\n",
       "      <td>light</td>\n",
       "      <td>900.0</td>\n",
       "      <td>AS a Marine 1st Lt. flying an FJ4B fighter/att...</td>\n",
       "      <td>21.418056</td>\n",
       "      <td>-157.803611</td>\n",
       "    </tr>\n",
       "  </tbody>\n",
       "</table>\n",
       "</div>"
      ],
      "text/plain": [
       "           datetime                  city state country     shape  duration  \\\n",
       "0  10/10/1949 20:30            san marcos    tx      us  cylinder    2700.0   \n",
       "1  10/10/1949 21:00          lackland afb    tx     NaN     light    7200.0   \n",
       "2  10/10/1955 17:00  chester (uk/england)   NaN      gb    circle      20.0   \n",
       "3  10/10/1956 21:00                  edna    tx      us    circle      20.0   \n",
       "4  10/10/1960 20:00               kaneohe    hi      us     light     900.0   \n",
       "\n",
       "                                            comments   latitude   longitude  \n",
       "0  This event took place in early fall around 194...  29.883056  -97.941111  \n",
       "1  1949 Lackland AFB&#44 TX.  Lights racing acros...  29.384210  -98.581082  \n",
       "2  Green/Orange circular disc over Chester&#44 En...  53.200000   -2.916667  \n",
       "3  My older brother and twin sister were leaving ...  28.978333  -96.645833  \n",
       "4  AS a Marine 1st Lt. flying an FJ4B fighter/att...  21.418056 -157.803611  "
      ]
     },
     "execution_count": 2,
     "metadata": {},
     "output_type": "execute_result"
    }
   ],
   "source": [
    "ufos = pd.read_csv('ufo_sightings.csv')\n",
    "ufos.head(5)"
   ]
  },
  {
   "cell_type": "markdown",
   "metadata": {},
   "source": [
    "Je kan ook *read_table* gebruiken in plaats van *read_csv*. In dat geval geef je met *sep=''* aan welk scheidingsteken er in het bestand gebruikt wordt:"
   ]
  },
  {
   "cell_type": "code",
   "execution_count": 3,
   "metadata": {},
   "outputs": [
    {
     "data": {
      "text/html": [
       "<div>\n",
       "<style scoped>\n",
       "    .dataframe tbody tr th:only-of-type {\n",
       "        vertical-align: middle;\n",
       "    }\n",
       "\n",
       "    .dataframe tbody tr th {\n",
       "        vertical-align: top;\n",
       "    }\n",
       "\n",
       "    .dataframe thead th {\n",
       "        text-align: right;\n",
       "    }\n",
       "</style>\n",
       "<table border=\"1\" class=\"dataframe\">\n",
       "  <thead>\n",
       "    <tr style=\"text-align: right;\">\n",
       "      <th></th>\n",
       "      <th>datetime</th>\n",
       "      <th>city</th>\n",
       "      <th>state</th>\n",
       "      <th>country</th>\n",
       "      <th>shape</th>\n",
       "      <th>duration</th>\n",
       "      <th>comments</th>\n",
       "      <th>latitude</th>\n",
       "      <th>longitude</th>\n",
       "    </tr>\n",
       "  </thead>\n",
       "  <tbody>\n",
       "    <tr>\n",
       "      <th>0</th>\n",
       "      <td>10/10/1949 20:30</td>\n",
       "      <td>san marcos</td>\n",
       "      <td>tx</td>\n",
       "      <td>us</td>\n",
       "      <td>cylinder</td>\n",
       "      <td>2700.0</td>\n",
       "      <td>This event took place in early fall around 194...</td>\n",
       "      <td>29.883056</td>\n",
       "      <td>-97.941111</td>\n",
       "    </tr>\n",
       "    <tr>\n",
       "      <th>1</th>\n",
       "      <td>10/10/1949 21:00</td>\n",
       "      <td>lackland afb</td>\n",
       "      <td>tx</td>\n",
       "      <td>NaN</td>\n",
       "      <td>light</td>\n",
       "      <td>7200.0</td>\n",
       "      <td>1949 Lackland AFB&amp;#44 TX.  Lights racing acros...</td>\n",
       "      <td>29.384210</td>\n",
       "      <td>-98.581082</td>\n",
       "    </tr>\n",
       "    <tr>\n",
       "      <th>2</th>\n",
       "      <td>10/10/1955 17:00</td>\n",
       "      <td>chester (uk/england)</td>\n",
       "      <td>NaN</td>\n",
       "      <td>gb</td>\n",
       "      <td>circle</td>\n",
       "      <td>20.0</td>\n",
       "      <td>Green/Orange circular disc over Chester&amp;#44 En...</td>\n",
       "      <td>53.200000</td>\n",
       "      <td>-2.916667</td>\n",
       "    </tr>\n",
       "    <tr>\n",
       "      <th>3</th>\n",
       "      <td>10/10/1956 21:00</td>\n",
       "      <td>edna</td>\n",
       "      <td>tx</td>\n",
       "      <td>us</td>\n",
       "      <td>circle</td>\n",
       "      <td>20.0</td>\n",
       "      <td>My older brother and twin sister were leaving ...</td>\n",
       "      <td>28.978333</td>\n",
       "      <td>-96.645833</td>\n",
       "    </tr>\n",
       "    <tr>\n",
       "      <th>4</th>\n",
       "      <td>10/10/1960 20:00</td>\n",
       "      <td>kaneohe</td>\n",
       "      <td>hi</td>\n",
       "      <td>us</td>\n",
       "      <td>light</td>\n",
       "      <td>900.0</td>\n",
       "      <td>AS a Marine 1st Lt. flying an FJ4B fighter/att...</td>\n",
       "      <td>21.418056</td>\n",
       "      <td>-157.803611</td>\n",
       "    </tr>\n",
       "  </tbody>\n",
       "</table>\n",
       "</div>"
      ],
      "text/plain": [
       "           datetime                  city state country     shape  duration  \\\n",
       "0  10/10/1949 20:30            san marcos    tx      us  cylinder    2700.0   \n",
       "1  10/10/1949 21:00          lackland afb    tx     NaN     light    7200.0   \n",
       "2  10/10/1955 17:00  chester (uk/england)   NaN      gb    circle      20.0   \n",
       "3  10/10/1956 21:00                  edna    tx      us    circle      20.0   \n",
       "4  10/10/1960 20:00               kaneohe    hi      us     light     900.0   \n",
       "\n",
       "                                            comments   latitude   longitude  \n",
       "0  This event took place in early fall around 194...  29.883056  -97.941111  \n",
       "1  1949 Lackland AFB&#44 TX.  Lights racing acros...  29.384210  -98.581082  \n",
       "2  Green/Orange circular disc over Chester&#44 En...  53.200000   -2.916667  \n",
       "3  My older brother and twin sister were leaving ...  28.978333  -96.645833  \n",
       "4  AS a Marine 1st Lt. flying an FJ4B fighter/att...  21.418056 -157.803611  "
      ]
     },
     "execution_count": 3,
     "metadata": {},
     "output_type": "execute_result"
    }
   ],
   "source": [
    "ufos = pd.read_table('ufo_sightings.csv', sep=',')\n",
    "ufos.head(5)"
   ]
  },
  {
   "cell_type": "markdown",
   "metadata": {},
   "source": [
    "Zoals hierboven te zien is maakt Pandas zelf een index aan (dikgedrukte 0 t/m 4 voor de eerste vijf rijen). Als je één van je kolommen als index wilt gebruiken dan kan je dit bij het openen aangeven. Ook kan je het aangeven wanneer de eerste regel van je dataset geen kolomnamen zijn. Als voorbeeld nemen we het bestand *ufos_zonder_kolomnamen.csv*. Bekijk dit bestand eerst in Excel. Daarna laden we het in, waarbij we aangeven dat het bestand al een index bevat (eerste kolom) en geen kolomnamen (headers)."
   ]
  },
  {
   "cell_type": "code",
   "execution_count": 4,
   "metadata": {},
   "outputs": [
    {
     "data": {
      "text/html": [
       "<div>\n",
       "<style scoped>\n",
       "    .dataframe tbody tr th:only-of-type {\n",
       "        vertical-align: middle;\n",
       "    }\n",
       "\n",
       "    .dataframe tbody tr th {\n",
       "        vertical-align: top;\n",
       "    }\n",
       "\n",
       "    .dataframe thead th {\n",
       "        text-align: right;\n",
       "    }\n",
       "</style>\n",
       "<table border=\"1\" class=\"dataframe\">\n",
       "  <thead>\n",
       "    <tr style=\"text-align: right;\">\n",
       "      <th></th>\n",
       "      <th>1</th>\n",
       "      <th>2</th>\n",
       "      <th>3</th>\n",
       "      <th>4</th>\n",
       "      <th>5</th>\n",
       "      <th>6</th>\n",
       "      <th>7</th>\n",
       "      <th>8</th>\n",
       "    </tr>\n",
       "    <tr>\n",
       "      <th>0</th>\n",
       "      <th></th>\n",
       "      <th></th>\n",
       "      <th></th>\n",
       "      <th></th>\n",
       "      <th></th>\n",
       "      <th></th>\n",
       "      <th></th>\n",
       "      <th></th>\n",
       "    </tr>\n",
       "  </thead>\n",
       "  <tbody>\n",
       "    <tr>\n",
       "      <th>10/10/1949</th>\n",
       "      <td>san marcos</td>\n",
       "      <td>tx</td>\n",
       "      <td>us</td>\n",
       "      <td>cylinder</td>\n",
       "      <td>2700.0</td>\n",
       "      <td>This event took place in early fall around 194...</td>\n",
       "      <td>29.883056</td>\n",
       "      <td>-97.941111</td>\n",
       "    </tr>\n",
       "    <tr>\n",
       "      <th>10/10/1949</th>\n",
       "      <td>lackland afb</td>\n",
       "      <td>tx</td>\n",
       "      <td>NaN</td>\n",
       "      <td>light</td>\n",
       "      <td>7200.0</td>\n",
       "      <td>1949 Lackland AFB&amp;#44 TX.  Lights racing acros...</td>\n",
       "      <td>29.384210</td>\n",
       "      <td>-98.581082</td>\n",
       "    </tr>\n",
       "    <tr>\n",
       "      <th>10/10/1955</th>\n",
       "      <td>chester (uk/england)</td>\n",
       "      <td>NaN</td>\n",
       "      <td>gb</td>\n",
       "      <td>circle</td>\n",
       "      <td>20.0</td>\n",
       "      <td>Green/Orange circular disc over Chester&amp;#44 En...</td>\n",
       "      <td>53.200000</td>\n",
       "      <td>-2.916667</td>\n",
       "    </tr>\n",
       "    <tr>\n",
       "      <th>10/10/1956</th>\n",
       "      <td>edna</td>\n",
       "      <td>tx</td>\n",
       "      <td>us</td>\n",
       "      <td>circle</td>\n",
       "      <td>20.0</td>\n",
       "      <td>My older brother and twin sister were leaving ...</td>\n",
       "      <td>28.978333</td>\n",
       "      <td>-96.645833</td>\n",
       "    </tr>\n",
       "    <tr>\n",
       "      <th>10/10/1960</th>\n",
       "      <td>kaneohe</td>\n",
       "      <td>hi</td>\n",
       "      <td>us</td>\n",
       "      <td>light</td>\n",
       "      <td>900.0</td>\n",
       "      <td>AS a Marine 1st Lt. flying an FJ4B fighter/att...</td>\n",
       "      <td>21.418056</td>\n",
       "      <td>-157.803611</td>\n",
       "    </tr>\n",
       "  </tbody>\n",
       "</table>\n",
       "</div>"
      ],
      "text/plain": [
       "                               1    2    3         4       5  \\\n",
       "0                                                              \n",
       "10/10/1949            san marcos   tx   us  cylinder  2700.0   \n",
       "10/10/1949          lackland afb   tx  NaN     light  7200.0   \n",
       "10/10/1955  chester (uk/england)  NaN   gb    circle    20.0   \n",
       "10/10/1956                  edna   tx   us    circle    20.0   \n",
       "10/10/1960               kaneohe   hi   us     light   900.0   \n",
       "\n",
       "                                                            6          7  \\\n",
       "0                                                                          \n",
       "10/10/1949  This event took place in early fall around 194...  29.883056   \n",
       "10/10/1949  1949 Lackland AFB&#44 TX.  Lights racing acros...  29.384210   \n",
       "10/10/1955  Green/Orange circular disc over Chester&#44 En...  53.200000   \n",
       "10/10/1956  My older brother and twin sister were leaving ...  28.978333   \n",
       "10/10/1960  AS a Marine 1st Lt. flying an FJ4B fighter/att...  21.418056   \n",
       "\n",
       "                     8  \n",
       "0                       \n",
       "10/10/1949  -97.941111  \n",
       "10/10/1949  -98.581082  \n",
       "10/10/1955   -2.916667  \n",
       "10/10/1956  -96.645833  \n",
       "10/10/1960 -157.803611  "
      ]
     },
     "execution_count": 4,
     "metadata": {},
     "output_type": "execute_result"
    }
   ],
   "source": [
    "ufos = pd.read_csv('ufos_zonder_kolomnamen.csv', index_col=0, header=None)\n",
    "ufos.head(5)"
   ]
  },
  {
   "cell_type": "markdown",
   "metadata": {},
   "source": [
    "Als je geen kolomnamen in het je bestand hebt staan, kan je ze ook bij het inladen meegeven als lijst via de parameter *names*:"
   ]
  },
  {
   "cell_type": "code",
   "execution_count": 5,
   "metadata": {},
   "outputs": [
    {
     "data": {
      "text/html": [
       "<div>\n",
       "<style scoped>\n",
       "    .dataframe tbody tr th:only-of-type {\n",
       "        vertical-align: middle;\n",
       "    }\n",
       "\n",
       "    .dataframe tbody tr th {\n",
       "        vertical-align: top;\n",
       "    }\n",
       "\n",
       "    .dataframe thead th {\n",
       "        text-align: right;\n",
       "    }\n",
       "</style>\n",
       "<table border=\"1\" class=\"dataframe\">\n",
       "  <thead>\n",
       "    <tr style=\"text-align: right;\">\n",
       "      <th></th>\n",
       "      <th>Stad</th>\n",
       "      <th>Staat</th>\n",
       "      <th>Land</th>\n",
       "      <th>Vorm</th>\n",
       "      <th>Duur</th>\n",
       "      <th>Beschrijving</th>\n",
       "      <th>Breedtegraad</th>\n",
       "      <th>Lengtegraad</th>\n",
       "    </tr>\n",
       "    <tr>\n",
       "      <th>Datum</th>\n",
       "      <th></th>\n",
       "      <th></th>\n",
       "      <th></th>\n",
       "      <th></th>\n",
       "      <th></th>\n",
       "      <th></th>\n",
       "      <th></th>\n",
       "      <th></th>\n",
       "    </tr>\n",
       "  </thead>\n",
       "  <tbody>\n",
       "    <tr>\n",
       "      <th>10/10/1949</th>\n",
       "      <td>san marcos</td>\n",
       "      <td>tx</td>\n",
       "      <td>us</td>\n",
       "      <td>cylinder</td>\n",
       "      <td>2700.0</td>\n",
       "      <td>This event took place in early fall around 194...</td>\n",
       "      <td>29.883056</td>\n",
       "      <td>-97.941111</td>\n",
       "    </tr>\n",
       "    <tr>\n",
       "      <th>10/10/1949</th>\n",
       "      <td>lackland afb</td>\n",
       "      <td>tx</td>\n",
       "      <td>NaN</td>\n",
       "      <td>light</td>\n",
       "      <td>7200.0</td>\n",
       "      <td>1949 Lackland AFB&amp;#44 TX.  Lights racing acros...</td>\n",
       "      <td>29.384210</td>\n",
       "      <td>-98.581082</td>\n",
       "    </tr>\n",
       "    <tr>\n",
       "      <th>10/10/1955</th>\n",
       "      <td>chester (uk/england)</td>\n",
       "      <td>NaN</td>\n",
       "      <td>gb</td>\n",
       "      <td>circle</td>\n",
       "      <td>20.0</td>\n",
       "      <td>Green/Orange circular disc over Chester&amp;#44 En...</td>\n",
       "      <td>53.200000</td>\n",
       "      <td>-2.916667</td>\n",
       "    </tr>\n",
       "    <tr>\n",
       "      <th>10/10/1956</th>\n",
       "      <td>edna</td>\n",
       "      <td>tx</td>\n",
       "      <td>us</td>\n",
       "      <td>circle</td>\n",
       "      <td>20.0</td>\n",
       "      <td>My older brother and twin sister were leaving ...</td>\n",
       "      <td>28.978333</td>\n",
       "      <td>-96.645833</td>\n",
       "    </tr>\n",
       "    <tr>\n",
       "      <th>10/10/1960</th>\n",
       "      <td>kaneohe</td>\n",
       "      <td>hi</td>\n",
       "      <td>us</td>\n",
       "      <td>light</td>\n",
       "      <td>900.0</td>\n",
       "      <td>AS a Marine 1st Lt. flying an FJ4B fighter/att...</td>\n",
       "      <td>21.418056</td>\n",
       "      <td>-157.803611</td>\n",
       "    </tr>\n",
       "  </tbody>\n",
       "</table>\n",
       "</div>"
      ],
      "text/plain": [
       "                            Stad Staat Land      Vorm    Duur  \\\n",
       "Datum                                                           \n",
       "10/10/1949            san marcos    tx   us  cylinder  2700.0   \n",
       "10/10/1949          lackland afb    tx  NaN     light  7200.0   \n",
       "10/10/1955  chester (uk/england)   NaN   gb    circle    20.0   \n",
       "10/10/1956                  edna    tx   us    circle    20.0   \n",
       "10/10/1960               kaneohe    hi   us     light   900.0   \n",
       "\n",
       "                                                 Beschrijving  Breedtegraad  \\\n",
       "Datum                                                                         \n",
       "10/10/1949  This event took place in early fall around 194...     29.883056   \n",
       "10/10/1949  1949 Lackland AFB&#44 TX.  Lights racing acros...     29.384210   \n",
       "10/10/1955  Green/Orange circular disc over Chester&#44 En...     53.200000   \n",
       "10/10/1956  My older brother and twin sister were leaving ...     28.978333   \n",
       "10/10/1960  AS a Marine 1st Lt. flying an FJ4B fighter/att...     21.418056   \n",
       "\n",
       "            Lengtegraad  \n",
       "Datum                    \n",
       "10/10/1949   -97.941111  \n",
       "10/10/1949   -98.581082  \n",
       "10/10/1955    -2.916667  \n",
       "10/10/1956   -96.645833  \n",
       "10/10/1960  -157.803611  "
      ]
     },
     "execution_count": 5,
     "metadata": {},
     "output_type": "execute_result"
    }
   ],
   "source": [
    "header_lijst = ['Datum', 'Stad', 'Staat', 'Land', 'Vorm', 'Duur', 'Beschrijving', 'Breedtegraad', 'Lengtegraad']\n",
    "ufos = pd.read_csv('ufos_zonder_kolomnamen.csv', index_col=0, names=header_lijst)\n",
    "ufos.head(5)"
   ]
  },
  {
   "cell_type": "markdown",
   "metadata": {},
   "source": [
    "We laden het bestand *ufo_sightings.csv* weer in. De variabele *ufos* is van het type *DataFrame*. Dit is een speciaal datatype (of eigenlijk: *data structure*) dat door Pandas is gedefinieerd."
   ]
  },
  {
   "cell_type": "code",
   "execution_count": 6,
   "metadata": {},
   "outputs": [
    {
     "data": {
      "text/plain": [
       "pandas.core.frame.DataFrame"
      ]
     },
     "execution_count": 6,
     "metadata": {},
     "output_type": "execute_result"
    }
   ],
   "source": [
    "ufos = pd.read_csv('ufo_sightings.csv')\n",
    "type(ufos)"
   ]
  },
  {
   "cell_type": "markdown",
   "metadata": {},
   "source": [
    "Als we een kolom uit een dataframe willen hebben kan dat op twee manieren. De eerste manier is als volgt:"
   ]
  },
  {
   "cell_type": "code",
   "execution_count": 7,
   "metadata": {},
   "outputs": [
    {
     "data": {
      "text/plain": [
       "0                  san marcos\n",
       "1                lackland afb\n",
       "2        chester (uk/england)\n",
       "3                        edna\n",
       "4                     kaneohe\n",
       "                 ...         \n",
       "80326               nashville\n",
       "80327                   boise\n",
       "80328                    napa\n",
       "80329                  vienna\n",
       "80330                  edmond\n",
       "Name: city, Length: 80331, dtype: object"
      ]
     },
     "execution_count": 7,
     "metadata": {},
     "output_type": "execute_result"
    }
   ],
   "source": [
    "ufos['city']"
   ]
  },
  {
   "cell_type": "markdown",
   "metadata": {},
   "source": [
    "De tweede manier:"
   ]
  },
  {
   "cell_type": "code",
   "execution_count": 8,
   "metadata": {},
   "outputs": [
    {
     "data": {
      "text/plain": [
       "0                  san marcos\n",
       "1                lackland afb\n",
       "2        chester (uk/england)\n",
       "3                        edna\n",
       "4                     kaneohe\n",
       "                 ...         \n",
       "80326               nashville\n",
       "80327                   boise\n",
       "80328                    napa\n",
       "80329                  vienna\n",
       "80330                  edmond\n",
       "Name: city, Length: 80331, dtype: object"
      ]
     },
     "execution_count": 8,
     "metadata": {},
     "output_type": "execute_result"
    }
   ],
   "source": [
    "ufos.city"
   ]
  },
  {
   "cell_type": "markdown",
   "metadata": {},
   "source": [
    "Zoals je ziet zorgt Pandas ervoor dat de kolomnamen meteen ook attributen worden. Let wel goed op, want als er bijvoorbeeld spaties in je kolomnamen zitten, werkt dit niet. De eerste manier werkt altijd.\n",
    "\n",
    "Laten we even kijken van welk variabeltype zo'n kolom is:"
   ]
  },
  {
   "cell_type": "code",
   "execution_count": 9,
   "metadata": {},
   "outputs": [
    {
     "data": {
      "text/plain": [
       "pandas.core.series.Series"
      ]
     },
     "execution_count": 9,
     "metadata": {},
     "output_type": "execute_result"
    }
   ],
   "source": [
    "type(ufos.city.head(5))"
   ]
  },
  {
   "cell_type": "markdown",
   "metadata": {},
   "source": [
    "Pandas maakt dus onderscheid tussen *DataFrames* (hele tabellen) en *Series* (een enkele kolom).\n",
    "In de documentatie van Pandas staat het volgende over de data structure 'DataFrame':\n",
    "\n",
    "> *A DataFrame is a two-dimensional size-mutable, potentially heterogeneous tabular data structure with labeled axes (rows and columns). Arithmetic operations align on both row and column labels. Can be thought of as a dict-like container for Series objects.* \n",
    "\n",
    "Een Series is dus de data structure van één enkele kolom van een DataFrame. Dit is ook letterlijk zo: de data in een DataFrame wordt in het geheugen opgeslagen als een collectie van Series."
   ]
  }
 ],
 "metadata": {
  "kernelspec": {
   "display_name": "Python 3 (ipykernel)",
   "language": "python",
   "name": "python3"
  },
  "language_info": {
   "codemirror_mode": {
    "name": "ipython",
    "version": 3
   },
   "file_extension": ".py",
   "mimetype": "text/x-python",
   "name": "python",
   "nbconvert_exporter": "python",
   "pygments_lexer": "ipython3",
   "version": "3.9.13"
  }
 },
 "nbformat": 4,
 "nbformat_minor": 2
}
