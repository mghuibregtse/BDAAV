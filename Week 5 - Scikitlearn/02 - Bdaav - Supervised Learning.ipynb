{
 "cells": [
  {
   "cell_type": "markdown",
   "metadata": {},
   "source": [
    "# Supervised Learning"
   ]
  },
  {
   "cell_type": "markdown",
   "metadata": {},
   "source": [
    "Met scikit learn kun je supervised learning toepassen op je dataset. Voorbeelden van supervised learning zijn onder andere SVM (Support Vector Machines), Naive Bayes, Decision Trees en linaire models zoals Lasso en Ridge. Zie de userguide voor een volledige beschikbare lijst: https://scikit-learn.org/stable/supervised_learning.html\n",
    "\n",
    "In deze notebook gebruiken we LinearSVC en een RandomForestClassifier als voorbeeld om aan te tonen. De meeste models volgen een standaard volgorde van stappen. De volgende stappen worden genomen:\n",
    "\n",
    "1. Importeren van de model class --> **import**\n",
    "2. Instantiate een object (en eventueel parameters bepalen) --> **model = Model()**\n",
    "3. Fitten van de model --> **model.fit(X_train, y_train)**\n",
    "4. Toepassen van het model --> **model.predict(X_train)**\n",
    "5. Evalueren --> **model.score(X_train, X_test)**\n",
    "\n",
    "Deze stappen zullen wij in deze notebook ook gaan nemen. We beginnen met het importeren van matplotlib en numpy omdat we deze nodig hebben voor visualiseren en data bewerking"
   ]
  },
  {
   "cell_type": "code",
   "execution_count": null,
   "metadata": {},
   "outputs": [],
   "source": [
    "import matplotlib.pyplot as plt\n",
    "import numpy as np\n",
    "%matplotlib inline"
   ]
  },
  {
   "cell_type": "markdown",
   "metadata": {},
   "source": [
    "We gaan de ``load_digits`` dataset gebruiken. We beginnen met het inladen van deze dataset en het importeren van ``train_test_split`` method. ``train_test_split`` is een functie vanuit sklearn. Deze functie wordt gebruik voor het splitten van een dataset in twee subsets: 1 subset voor het trainen van een model en 1 subset voor het testen van de performance van een model. **Dit is een cruciale stap in model evaluation om er zeker van te zijn dat het model getest is op data die het model nog niet kent.**\n",
    "\n",
    "We geven de ``train_test_split`` vier variabelen:\n",
    "\n",
    "- X_train\n",
    "- X_test\n",
    "- y_train\n",
    "- y_test\n",
    "\n",
    "``X_train`` en ``y_train`` zijn de features en de labels voor de training set.\n",
    "``X_test`` en ``y_test`` zijn de features en de labels voor de test set."
   ]
  },
  {
   "cell_type": "code",
   "execution_count": null,
   "metadata": {},
   "outputs": [],
   "source": [
    "from sklearn.datasets import load_digits\n",
    "from sklearn.model_selection import train_test_split\n",
    "digits = load_digits()\n",
    "X_train, X_test, y_train, y_test = train_test_split(\n",
    "    digits.data, digits.target, random_state=0)"
   ]
  },
  {
   "cell_type": "code",
   "execution_count": null,
   "metadata": {},
   "outputs": [],
   "source": [
    "X_train.shape"
   ]
  },
  {
   "cell_type": "code",
   "execution_count": null,
   "metadata": {},
   "outputs": [],
   "source": [
    "np.bincount(y_train)"
   ]
  },
  {
   "cell_type": "markdown",
   "metadata": {},
   "source": [
    "### Stap 1: Importeren van de model class"
   ]
  },
  {
   "cell_type": "code",
   "execution_count": null,
   "metadata": {},
   "outputs": [],
   "source": [
    "from sklearn.svm import LinearSVC"
   ]
  },
  {
   "cell_type": "markdown",
   "metadata": {},
   "source": [
    "### Stap 2: Instantiate een object"
   ]
  },
  {
   "cell_type": "code",
   "execution_count": null,
   "metadata": {},
   "outputs": [],
   "source": [
    "svm = LinearSVC()"
   ]
  },
  {
   "cell_type": "markdown",
   "metadata": {},
   "source": [
    "### Stap 3:  Fitten van het model"
   ]
  },
  {
   "cell_type": "code",
   "execution_count": null,
   "metadata": {},
   "outputs": [],
   "source": [
    "svm.fit(X_train, y_train)"
   ]
  },
  {
   "cell_type": "markdown",
   "metadata": {},
   "source": [
    "### Stap 4: Toepassen"
   ]
  },
  {
   "cell_type": "code",
   "execution_count": null,
   "metadata": {},
   "outputs": [],
   "source": [
    "print(svm.predict(X_train))\n",
    "print(y_train)"
   ]
  },
  {
   "cell_type": "markdown",
   "metadata": {},
   "source": [
    "### Stap 5: Evalueren"
   ]
  },
  {
   "cell_type": "code",
   "execution_count": null,
   "metadata": {},
   "outputs": [],
   "source": [
    "svm.score(X_train, y_train)"
   ]
  },
  {
   "cell_type": "code",
   "execution_count": null,
   "metadata": {},
   "outputs": [],
   "source": [
    "svm.score(X_test, y_test)"
   ]
  },
  {
   "cell_type": "markdown",
   "metadata": {},
   "source": [
    "## Nog een voorbeeld: RandomForrestClassifier"
   ]
  },
  {
   "cell_type": "code",
   "execution_count": null,
   "metadata": {},
   "outputs": [],
   "source": [
    "from sklearn.ensemble import RandomForestClassifier"
   ]
  },
  {
   "cell_type": "code",
   "execution_count": null,
   "metadata": {},
   "outputs": [],
   "source": [
    "rf = RandomForestClassifier(n_estimators=100)"
   ]
  },
  {
   "cell_type": "code",
   "execution_count": null,
   "metadata": {},
   "outputs": [],
   "source": [
    "rf.fit(X_train, y_train)"
   ]
  },
  {
   "cell_type": "code",
   "execution_count": null,
   "metadata": {},
   "outputs": [],
   "source": [
    "rf.score(X_train, y_train)"
   ]
  },
  {
   "cell_type": "code",
   "execution_count": null,
   "metadata": {},
   "outputs": [],
   "source": [
    "rf.score(X_test, y_test)"
   ]
  },
  {
   "cell_type": "markdown",
   "metadata": {},
   "source": [
    "# Oefeningen\n",
    "\n",
    "## Oefening 1\n",
    "Laad de iris dataset van de ``sklearn.datasets`` module en gebruik de ``load_iris`` function.\n",
    "\n",
    "Split deze in training and test set via ``train_test_split``.\n",
    "\n",
    "## Oefening 2\n",
    "Train en evalueer vervolgens de  ``sklearn.neighbors.KNeighborsClassifier``, the RandomForestClassifier and  ``sklearn.linear_model.LogisticRegression`` op de iris dataset.\n",
    "\n",
    "Kijk vervolgens kritisch naar het resultaat en probeer wat vragen te beantwoorden: \n",
    "Hoe performt deze op de training set vs de test set? Welke is het op de training set, welke is het best op de test set? \n",
    "\n",
    "## Oefening 3 (extra)\n",
    "Wat meer uitdaging: kun je een binary classificate\n",
    "Kun je een binair classificatiedataset construeren (bijvoorbeeld met behulp van np.random) waarop ``sklearn.linear_model.LogisticRegression`` een nauwkeurigheid van 1 bereikt? Kun je een binair classificatiedataset construeren waarop het een nauwkeurigheid van 0,5 behaalt?"
   ]
  }
 ],
 "metadata": {
  "anaconda-cloud": {},
  "kernelspec": {
   "display_name": "Python 3 (ipykernel)",
   "language": "python",
   "name": "python3"
  },
  "language_info": {
   "codemirror_mode": {
    "name": "ipython",
    "version": 3
   },
   "file_extension": ".py",
   "mimetype": "text/x-python",
   "name": "python",
   "nbconvert_exporter": "python",
   "pygments_lexer": "ipython3",
   "version": "3.11.5"
  }
 },
 "nbformat": 4,
 "nbformat_minor": 2
}
