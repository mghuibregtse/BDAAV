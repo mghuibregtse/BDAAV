{
 "cells": [
  {
   "cell_type": "markdown",
   "metadata": {},
   "source": [
    "# Data Loading"
   ]
  },
  {
   "cell_type": "markdown",
   "metadata": {},
   "source": [
    "Scikit learn heeft een aantal standaard datasets. Deze datasets gaan we gebruiken om te leren hoe we de data in een juiste format kunnen krijgen en daarop machine learning kunnen toepassen. Een beroemde en veelgebruikte dataset is de digits data set. Ga naar https://scikit-learn.org/stable/datasets.html voor alle beschikbaar voorbeeld datasets."
   ]
  },
  {
   "cell_type": "markdown",
   "metadata": {},
   "source": [
    "## Stap 1: laden van data\n",
    "\n",
    "De volgende code laadt de daadwerkelijke digits dataset in. Op deze manier kun je alle beschikbare voorbeeld datasets inladen. Het importeren van numpy is nodig voor verdere data exploratie of data bewerking later in de notebook."
   ]
  },
  {
   "cell_type": "code",
   "execution_count": null,
   "metadata": {},
   "outputs": [],
   "source": [
    "from sklearn.datasets import load_digits\n",
    "import numpy as np\n",
    "digits = load_digits()\n",
    "digits.keys()"
   ]
  },
  {
   "cell_type": "markdown",
   "metadata": {},
   "source": [
    "## Stap 2: data exploratie"
   ]
  },
  {
   "cell_type": "markdown",
   "metadata": {},
   "source": [
    "We kunnen enkele data exploratie technieken toepassen om onze data wat te leren kennen. Let hier bij op dat de '.target' en '.data' attributen alleen beschikbaar zijn voor de built-in scikit-learn datasets. "
   ]
  },
  {
   "cell_type": "code",
   "execution_count": null,
   "metadata": {},
   "outputs": [],
   "source": [
    "digits.data.shape"
   ]
  },
  {
   "cell_type": "code",
   "execution_count": null,
   "metadata": {},
   "outputs": [],
   "source": [
    "digits.data"
   ]
  },
  {
   "cell_type": "code",
   "execution_count": null,
   "metadata": {},
   "outputs": [],
   "source": [
    "digits.target.shape"
   ]
  },
  {
   "cell_type": "code",
   "execution_count": null,
   "metadata": {},
   "outputs": [],
   "source": [
    "digits.target"
   ]
  },
  {
   "cell_type": "code",
   "execution_count": null,
   "metadata": {},
   "outputs": [],
   "source": [
    "np.bincount(digits.target)"
   ]
  },
  {
   "cell_type": "code",
   "execution_count": null,
   "metadata": {},
   "outputs": [],
   "source": [
    "import matplotlib.pyplot as plt\n",
    "%matplotlib inline\n",
    "\n",
    "plt.matshow(digits.data[0].reshape(8, 8), cmap=plt.cm.Greys)"
   ]
  },
  {
   "cell_type": "code",
   "execution_count": null,
   "metadata": {},
   "outputs": [],
   "source": [
    "digits.target[0]"
   ]
  },
  {
   "cell_type": "code",
   "execution_count": null,
   "metadata": {},
   "outputs": [],
   "source": [
    "fig, axes = plt.subplots(4, 4)\n",
    "for x, y, ax in zip(digits.data, digits.target, axes.ravel()):\n",
    "    ax.set_title(y)\n",
    "    ax.imshow(x.reshape(8, 8), cmap=\"gray_r\")\n",
    "    ax.set_xticks(())\n",
    "    ax.set_yticks(())\n",
    "plt.tight_layout()"
   ]
  },
  {
   "cell_type": "markdown",
   "metadata": {},
   "source": [
    "**Data is altijd een numpy array (n_samples, n_features)**"
   ]
  },
  {
   "cell_type": "markdown",
   "metadata": {},
   "source": [
    "## Stap 3: splitten van data"
   ]
  },
  {
   "cell_type": "code",
   "execution_count": null,
   "metadata": {},
   "outputs": [],
   "source": [
    "from sklearn.model_selection import train_test_split\n",
    "X_train, X_test, y_train, y_test = train_test_split(digits.data,\n",
    "                                                    digits.target)"
   ]
  },
  {
   "cell_type": "code",
   "execution_count": null,
   "metadata": {},
   "outputs": [],
   "source": [
    "digits.data.shape"
   ]
  },
  {
   "cell_type": "code",
   "execution_count": null,
   "metadata": {},
   "outputs": [],
   "source": [
    "X_train.shape"
   ]
  },
  {
   "cell_type": "code",
   "execution_count": null,
   "metadata": {},
   "outputs": [],
   "source": [
    "X_test.shape"
   ]
  },
  {
   "cell_type": "markdown",
   "metadata": {},
   "source": [
    "# Oefeningen\n",
    "\n",
    "## Oefening 1\n",
    "\n",
    "Laad het iris-dataset van de module ``sklearn.datasets`` met behulp van de functie ``load_iris``.\n",
    "De functie retourneert een object dat lijkt op een woordenboek en dezelfde attributen heeft als ``digits``.\n",
    "\n",
    "**Wat is het aantal klassen, kenmerken en datapunten in dit dataset?\n",
    "Gebruik een scatterplot om de dataset te visualiseren.**\n",
    "\n",
    "*Tip: Je kunt het attribuut ``DESCR`` bekijken om meer te weten te komen over de dataset.*\n",
    "\n",
    "## Oefening 2\n",
    "\n",
    "Normaal gesproken komt data niet zo netjes zoals scikit learn dit aanbiedt via hun library. Er is een manier om de csv van de ``iris dataset`` te verkrijgen:\n",
    "\n",
    "```python\n",
    "import sklearn.datasets\n",
    "import os\n",
    "iris_path = os.path.join(sklearn.datasets.__path__[0], 'data', 'iris.csv')\n",
    "```\n",
    "\n",
    "**Laad deze data via de ``pd.read_csv`` method (pandas) en vorm deze tot hetzelfde format waarin scikit learn deze \n",
    "data toont. Plaats deze dataset in een variable genaamd ``X`` en de labels in een variable genaamd ``y``**\n",
    "\n",
    "Happy coding!"
   ]
  },
  {
   "cell_type": "code",
   "execution_count": null,
   "metadata": {},
   "outputs": [],
   "source": []
  }
 ],
 "metadata": {
  "anaconda-cloud": {},
  "kernelspec": {
   "display_name": "Python 3 (ipykernel)",
   "language": "python",
   "name": "python3"
  },
  "language_info": {
   "codemirror_mode": {
    "name": "ipython",
    "version": 3
   },
   "file_extension": ".py",
   "mimetype": "text/x-python",
   "name": "python",
   "nbconvert_exporter": "python",
   "pygments_lexer": "ipython3",
   "version": "3.11.5"
  }
 },
 "nbformat": 4,
 "nbformat_minor": 2
}
