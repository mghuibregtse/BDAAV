{
 "cells": [
  {
   "cell_type": "markdown",
   "metadata": {},
   "source": [
    "\n",
    "# Scikit-learn: Machine learning in Python\n",
    "\n",
    "Scikit-learn ([homepage](https://scikit-learn.org/)) bevat heel veel handige modules voor data mining m.b.v. Python. Kijk voordat je aan de opdracht begint maar eens in de '[user guide](https://scikit-learn.org/stable/user_guide.html)' en de '[API](https://scikit-learn.org/stable/modules/classes.html)' van Scikit-learn om te zien wat je er allemaal mee kan doen.\n",
    "\n",
    "In deze opdracht gaan jullie een K-means clustering uitvoeren en valideren.\n"
   ]
  },
  {
   "cell_type": "markdown",
   "metadata": {},
   "source": [
    "We gaan een dataset met informatie over '[irissen](https://www.tuinadvies.nl/artikels/irissen_bloemen_planten)' gebruiken. Deze dataset is te importeren vanuit Scikit-learn library. Informatie over de dataset vind je '[hier](https://scikit-learn.org/stable/modules/generated/sklearn.datasets.load_iris.html)'.\n",
    "\n",
    "1) Importeer de iris dataset en print van de data het aantal instanties en attributen en de namen van de attributen. (Tip: print eerst de dataset eens uit en bekijk waar het uit bestaat.)"
   ]
  },
  {
   "cell_type": "code",
   "execution_count": null,
   "metadata": {
    "scrolled": true
   },
   "outputs": [],
   "source": [
    "\n",
    "\n"
   ]
  },
  {
   "cell_type": "markdown",
   "metadata": {},
   "source": [
    "Er is op deze data al een K-means clustering gedaan. Deze is '[hier](https://scikit-learn.org/stable/auto_examples/cluster/plot_cluster_iris.html)' te vinden. Gebruik deze code en pas het aan om de volgende vragen te beantwoorden:\n",
    "\n",
    "2a) Plot in totaal 4 figuren waarbij het aantal clusters 2, 3, 5 en 8 is (gebruik dezelfde assen als het voorbeeld).<br>\n",
    "2b) Print de labels van elke clustering."
   ]
  },
  {
   "cell_type": "code",
   "execution_count": null,
   "metadata": {},
   "outputs": [],
   "source": [
    "\n",
    "\n"
   ]
  },
  {
   "cell_type": "markdown",
   "metadata": {},
   "source": [
    "3) Sepal width (de breedte van het kelkblad) wordt in het voorbeeld niet meegenomen bij het plotten. Print de beschrijving van de dataset (data.DESCR) en geef een verklaring waarom niet."
   ]
  },
  {
   "cell_type": "code",
   "execution_count": null,
   "metadata": {},
   "outputs": [],
   "source": [
    "\n",
    "\n"
   ]
  },
  {
   "cell_type": "markdown",
   "metadata": {},
   "source": [
    "4) Print de namen van de verschillende iris soorten in de dataset en de juiste labels van de instanties."
   ]
  },
  {
   "cell_type": "code",
   "execution_count": null,
   "metadata": {},
   "outputs": [],
   "source": [
    "\n",
    "\n"
   ]
  },
  {
   "cell_type": "markdown",
   "metadata": {},
   "source": [
    "5) Ook al is K-means geen classificatie tool (daar kun je natuurlijk beter bijv. k-nearest neighbours of support vector machines voor gebruiken); laten we de label voorspellingen van de K-means met 3 clusters eens vergelijken met de daadwerkelijke labels. Wat is de accuracy score? (<b><u>Let op</u></b>: Kijk bij de output van vraag 2 of de eerste waardes allemaal 0 zijn, in het midden van de array voornamelijk 1 en op het einde 2. Zo niet, voer de code van vraag 2 nog een keer uit totdat dat wel het geval is. Dan kun je namelijk de '<i>voorspelde</i>' labels vergelijken met de daadwerkelijke.)"
   ]
  },
  {
   "cell_type": "code",
   "execution_count": null,
   "metadata": {},
   "outputs": [],
   "source": [
    "\n",
    "\n"
   ]
  },
  {
   "cell_type": "markdown",
   "metadata": {},
   "source": [
    "6) Print een confusion matrix. Wat kun je hieruit afleiden?"
   ]
  },
  {
   "cell_type": "code",
   "execution_count": null,
   "metadata": {},
   "outputs": [],
   "source": [
    "\n",
    "\n"
   ]
  },
  {
   "cell_type": "markdown",
   "metadata": {},
   "source": [
    "7) Plot de confusion matrix (niet genormaliseerd). Kijk '[hier](https://scikit-learn.org/stable/auto_examples/model_selection/plot_confusion_matrix.html)' voor een voorbeeld."
   ]
  },
  {
   "cell_type": "code",
   "execution_count": null,
   "metadata": {},
   "outputs": [],
   "source": [
    "\n",
    "\n"
   ]
  }
 ],
 "metadata": {
  "kernelspec": {
   "display_name": "Python 3 (ipykernel)",
   "language": "python",
   "name": "python3"
  },
  "language_info": {
   "codemirror_mode": {
    "name": "ipython",
    "version": 3
   },
   "file_extension": ".py",
   "mimetype": "text/x-python",
   "name": "python",
   "nbconvert_exporter": "python",
   "pygments_lexer": "ipython3",
   "version": "3.11.5"
  }
 },
 "nbformat": 4,
 "nbformat_minor": 1
}
