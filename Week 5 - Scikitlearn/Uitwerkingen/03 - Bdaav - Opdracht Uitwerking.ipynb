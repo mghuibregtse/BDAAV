{
 "cells": [
  {
   "cell_type": "code",
   "execution_count": null,
   "id": "fd228e89",
   "metadata": {},
   "outputs": [],
   "source": [
    "import pandas as pd\n",
    "from sklearn.model_selection import train_test_split\n",
    "\n",
    "\n",
    "# %load solutions/bike_regression.py\n",
    "data = pd.read_csv(\"bike_day_raw.csv\")\n",
    "X = data.drop(\"cnt\", axis=1)\n",
    "y = data.cnt\n",
    "\n",
    "display(data.head())\n",
    "\n",
    "X_train, X_test, y_train, y_test = train_test_split(X, y, random_state=0)\n",
    "\n",
    "# from sklearn.preprocessing import OneHotEncoder\n",
    "# ohe = OneHotEncoder(sparse=False)\n",
    "\n",
    "# X_train_ohe = ohe.fit_transform(X_train)\n",
    "# X_test_ohe = ohe.transform(X_test)\n",
    "\n",
    "from sklearn.linear_model import LinearRegression\n",
    "\n",
    "\n",
    "# scale here\n",
    "\n",
    "lr = LinearRegression().fit(X_train, y_train)\n",
    "\n",
    "print(lr.score(X_train, y_train))\n",
    "\n",
    "print(lr.score(X_test, y_test))\n",
    "\n",
    "from sklearn.metrics import mean_squared_error\n",
    "y_pred = lr.predict(X_test)\n",
    "print(mean_squared_error(y_test, y_pred))\n",
    "\n",
    "# lr = LinearRegression().fit(X_train_ohe, y_train)\n",
    "\n",
    "# print(lr.score(X_train_ohe, y_train))\n",
    "\n",
    "# print(lr.score(X_test_ohe, y_test))\n",
    "\n",
    "# from sklearn.metrics import mean_squared_error\n",
    "# y_pred = lr.predict(X_test_ohe)\n",
    "# print(mean_squared_error(y_test, y_pred))"
   ]
  }
 ],
 "metadata": {
  "kernelspec": {
   "display_name": "Python 3 (ipykernel)",
   "language": "python",
   "name": "python3"
  },
  "language_info": {
   "codemirror_mode": {
    "name": "ipython",
    "version": 3
   },
   "file_extension": ".py",
   "mimetype": "text/x-python",
   "name": "python",
   "nbconvert_exporter": "python",
   "pygments_lexer": "ipython3",
   "version": "3.12.0"
  }
 },
 "nbformat": 4,
 "nbformat_minor": 5
}
