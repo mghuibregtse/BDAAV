{
 "cells": [
  {
   "cell_type": "code",
   "execution_count": 6,
   "id": "7e38f10b",
   "metadata": {},
   "outputs": [
    {
     "name": "stdout",
     "output_type": "stream",
     "text": [
      "test set score of knn: 1.000000\n",
      "score on trivial data:  1.0\n",
      "score on random data:  0.536\n"
     ]
    }
   ],
   "source": [
    "from sklearn.datasets import load_iris\n",
    "from sklearn.neighbors import KNeighborsClassifier\n",
    "from sklearn.ensemble import RandomForestClassifier\n",
    "from sklearn.model_selection import train_test_split\n",
    "import numpy as np\n",
    "# Oefening 1, loading data\n",
    "iris = load_iris()\n",
    "X, y = iris.data, iris.target\n",
    "\n",
    "X_train, X_test, y_train, y_test = train_test_split(X, y)\n",
    "\n",
    "# Oefening 2\n",
    "# Training KNN\n",
    "knn = KNeighborsClassifier(n_neighbors=3)\n",
    "knn.fit(X_train, y_train)\n",
    "\n",
    "print(\"test set score of knn: %f\" % knn.score(X_test, y_test))\n",
    "\n",
    "# Training RandomForest\n",
    "rf = RandomForestClassifier(n_estimators=100)\n",
    "rf.fit(X_train, y_train)\n",
    "rf.score(X_train, y_train)\n",
    "rf.score(X_test, y_test)\n",
    "\n",
    "# Oefening 3\n",
    "\n",
    "# Perfect classification (accuracy=1) on easy dataset\n",
    "from sklearn.linear_model import LogisticRegression\n",
    "X = np.random.uniform(size=(1000, 3))\n",
    "X[::2] += 1000\n",
    "y = X[:, 0] > 500\n",
    "X_train, X_test, y_train, y_test = train_test_split(X, y)\n",
    "logreg = LogisticRegression()\n",
    "logreg.fit(X_train, y_train)\n",
    "print(\"score on trivial data: \", logreg.score(X_test, y_test))\n",
    "\n",
    "# Random classification (accuracy=.5) on random data\n",
    "y = np.random.normal(size=1000) > .0\n",
    "X_train, X_test, y_train, y_test = train_test_split(X, y)\n",
    "logreg = LogisticRegression()\n",
    "logreg.fit(X_train, y_train)\n",
    "print(\"score on random data: \", logreg.score(X_test, y_test))"
   ]
  }
 ],
 "metadata": {
  "kernelspec": {
   "display_name": "Python 3 (ipykernel)",
   "language": "python",
   "name": "python3"
  },
  "language_info": {
   "codemirror_mode": {
    "name": "ipython",
    "version": 3
   },
   "file_extension": ".py",
   "mimetype": "text/x-python",
   "name": "python",
   "nbconvert_exporter": "python",
   "pygments_lexer": "ipython3",
   "version": "3.11.5"
  }
 },
 "nbformat": 4,
 "nbformat_minor": 5
}
