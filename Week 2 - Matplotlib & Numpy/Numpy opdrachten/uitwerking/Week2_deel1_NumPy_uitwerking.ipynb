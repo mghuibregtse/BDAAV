{
 "cells": [
  {
   "cell_type": "markdown",
   "metadata": {},
   "source": [
    "# NumPy opdrachten & uitwerkingen"
   ]
  },
  {
   "cell_type": "markdown",
   "metadata": {},
   "source": [
    "# Opdracht 1: BMI\n",
    "\n",
    "In het bestand `student_data.txt` staat informatie over studenten.\n",
    "\n",
    "a) Maak een array met de gewichten van de studenten.<br>\n",
    "b) Maak een array met de lengtes van de studenten.<br>\n",
    "c) Maak een array met de BMI (=gewicht/lengte^2) van de studenten en print deze uit.<br>\n",
    "d) Print de laagste en de hoogste BMI, de gemiddelde BMI en de standaarddeviatie.\n",
    "\n",
    "Data van een nieuwe student komt binnen; 96 kg en 1.88 m.<br>\n",
    "e) Vul de arrays met de gewichten, lengtes en BMI aan met de gegevens van de nieuwe student.<br>\n",
    "f) Print de BMI van de nieuwe student.<br>\n",
    "g) Print de nieuwe gemiddelde BMI over alle studenten.\n"
   ]
  },
  {
   "cell_type": "code",
   "execution_count": 1,
   "metadata": {},
   "outputs": [
    {
     "name": "stdout",
     "output_type": "stream",
     "text": [
      "BMI array: [23.79552644 26.54320988 17.95918367 24.09297052 20.9572742  20.99054097\n",
      " 25.76298058 22.78330889 21.51385851 22.24392361]\n",
      "Min, max, mean en std: 17.959183673469386 26.54320987654321 22.664277727206713 2.394503224554205\n",
      "BMI: 27.16161158895428\n",
      "Nieuwe gemiddelde BMI: 23.073126260092856\n"
     ]
    }
   ],
   "source": [
    "import numpy as np\n",
    "\n",
    "studenten = np.loadtxt('student_data.txt', skiprows=1)\n",
    "gewicht = studenten[:,2]\n",
    "lengte = studenten[:,3]\n",
    "bmi = gewicht / lengte**2\n",
    "print (\"BMI array:\", bmi)\n",
    "print (\"Min, max, mean en std:\", bmi.min(), bmi.max(), bmi.mean(), bmi.std())\n",
    "\n",
    "gewicht = np.append(gewicht, [96])\n",
    "lengte = np.append(lengte, [1.88])\n",
    "bmi = gewicht / lengte**2\n",
    "print (\"BMI:\", bmi[-1])\n",
    "print (\"Nieuwe gemiddelde BMI:\", bmi.mean())"
   ]
  },
  {
   "cell_type": "markdown",
   "metadata": {},
   "source": [
    "# Opdracht 2: array splitsen\n",
    "\n",
    "a) Creëer een 2D-array van 6 rijen en 9 kolommen met random getallen.<br>\n",
    "b) Split de array in 3 kleinere 2D-arrays van 6 rijen en 3 kolommen.<br>\n",
    "c) Split de array gecreëerd bij a in 3 kleinere 2D-arrays van 2 rijen en 9 kolommen.\n"
   ]
  },
  {
   "cell_type": "code",
   "execution_count": 2,
   "metadata": {},
   "outputs": [
    {
     "name": "stdout",
     "output_type": "stream",
     "text": [
      "Grote matrix: [[0.12224385 0.10261363 0.15332592 0.41011533 0.63975138 0.36712071\n",
      "  0.36000349 0.02741718 0.20914836]\n",
      " [0.92936646 0.18930453 0.78819978 0.6528742  0.24043129 0.10254463\n",
      "  0.42370822 0.30053135 0.31775833]\n",
      " [0.15889652 0.72345879 0.2075992  0.48946634 0.73914349 0.55119725\n",
      "  0.95342569 0.23640161 0.89201903]\n",
      " [0.24191069 0.82207051 0.12440082 0.07861468 0.91507922 0.43953221\n",
      "  0.6525228  0.48639407 0.29142111]\n",
      " [0.82676568 0.25618351 0.18237127 0.94475822 0.44408924 0.72171832\n",
      "  0.41205124 0.32631556 0.47637231]\n",
      " [0.28227565 0.10619029 0.51505867 0.15977071 0.11039092 0.81045992\n",
      "  0.83855082 0.32214464 0.93463255]]\n",
      "Shape grote matrix: (6, 9)\n",
      "\n",
      "Matrices hsplit: [array([[0.12224385, 0.10261363, 0.15332592],\n",
      "       [0.92936646, 0.18930453, 0.78819978],\n",
      "       [0.15889652, 0.72345879, 0.2075992 ],\n",
      "       [0.24191069, 0.82207051, 0.12440082],\n",
      "       [0.82676568, 0.25618351, 0.18237127],\n",
      "       [0.28227565, 0.10619029, 0.51505867]]), array([[0.41011533, 0.63975138, 0.36712071],\n",
      "       [0.6528742 , 0.24043129, 0.10254463],\n",
      "       [0.48946634, 0.73914349, 0.55119725],\n",
      "       [0.07861468, 0.91507922, 0.43953221],\n",
      "       [0.94475822, 0.44408924, 0.72171832],\n",
      "       [0.15977071, 0.11039092, 0.81045992]]), array([[0.36000349, 0.02741718, 0.20914836],\n",
      "       [0.42370822, 0.30053135, 0.31775833],\n",
      "       [0.95342569, 0.23640161, 0.89201903],\n",
      "       [0.6525228 , 0.48639407, 0.29142111],\n",
      "       [0.41205124, 0.32631556, 0.47637231],\n",
      "       [0.83855082, 0.32214464, 0.93463255]])]\n",
      "Shape matrix hsplit[0] shape: (6, 3)\n",
      "\n",
      "Matrices vsplit: [array([[0.12224385, 0.10261363, 0.15332592, 0.41011533, 0.63975138,\n",
      "        0.36712071, 0.36000349, 0.02741718, 0.20914836],\n",
      "       [0.92936646, 0.18930453, 0.78819978, 0.6528742 , 0.24043129,\n",
      "        0.10254463, 0.42370822, 0.30053135, 0.31775833]]), array([[0.15889652, 0.72345879, 0.2075992 , 0.48946634, 0.73914349,\n",
      "        0.55119725, 0.95342569, 0.23640161, 0.89201903],\n",
      "       [0.24191069, 0.82207051, 0.12440082, 0.07861468, 0.91507922,\n",
      "        0.43953221, 0.6525228 , 0.48639407, 0.29142111]]), array([[0.82676568, 0.25618351, 0.18237127, 0.94475822, 0.44408924,\n",
      "        0.72171832, 0.41205124, 0.32631556, 0.47637231],\n",
      "       [0.28227565, 0.10619029, 0.51505867, 0.15977071, 0.11039092,\n",
      "        0.81045992, 0.83855082, 0.32214464, 0.93463255]])]\n",
      "Shape matrix vsplit[0] shape: (2, 9)\n"
     ]
    }
   ],
   "source": [
    "grote_matrix = np.random.random((6,9)) # 6 rijen, 9 kolommen\n",
    "print(\"Grote matrix:\", grote_matrix)\n",
    "print(\"Shape grote matrix:\", grote_matrix.shape)\n",
    "\n",
    "grote_matrix_hsplit = np.hsplit(grote_matrix,3) # Geeft een array van 3 arrays\n",
    "print(\"\\nMatrices hsplit:\", grote_matrix_hsplit)\n",
    "print(\"Shape matrix hsplit[0] shape:\", grote_matrix_hsplit[0].shape) # 6 rijen, 3 kolommen\n",
    "\n",
    "grote_matrix_vsplit = np.vsplit(grote_matrix,3)\n",
    "print(\"\\nMatrices vsplit:\", grote_matrix_vsplit)\n",
    "print(\"Shape matrix vsplit[0] shape:\", grote_matrix_vsplit[0].shape) # 2 rijen, 9 kolommen"
   ]
  },
  {
   "cell_type": "markdown",
   "metadata": {},
   "source": [
    "# Opdracht 3: kwadraten array\n",
    "\n",
    "a) Vul een 2D-array van 10 rijen en 10 kolommen met het kwadraat van de getallen 0 t/m 99. (Dit kan in 1 regel.)<br>\n",
    "b) Print de array uit."
   ]
  },
  {
   "cell_type": "code",
   "execution_count": 3,
   "metadata": {},
   "outputs": [
    {
     "name": "stdout",
     "output_type": "stream",
     "text": [
      "Kwadraten array: [[   0    1    4    9   16   25   36   49   64   81]\n",
      " [ 100  121  144  169  196  225  256  289  324  361]\n",
      " [ 400  441  484  529  576  625  676  729  784  841]\n",
      " [ 900  961 1024 1089 1156 1225 1296 1369 1444 1521]\n",
      " [1600 1681 1764 1849 1936 2025 2116 2209 2304 2401]\n",
      " [2500 2601 2704 2809 2916 3025 3136 3249 3364 3481]\n",
      " [3600 3721 3844 3969 4096 4225 4356 4489 4624 4761]\n",
      " [4900 5041 5184 5329 5476 5625 5776 5929 6084 6241]\n",
      " [6400 6561 6724 6889 7056 7225 7396 7569 7744 7921]\n",
      " [8100 8281 8464 8649 8836 9025 9216 9409 9604 9801]]\n"
     ]
    }
   ],
   "source": [
    "kwadraten = np.arange(100).reshape(10,10) ** 2\n",
    "print (\"Kwadraten array:\", kwadraten)"
   ]
  }
 ],
 "metadata": {
  "kernelspec": {
   "display_name": "Python 3 (ipykernel)",
   "language": "python",
   "name": "python3"
  },
  "language_info": {
   "codemirror_mode": {
    "name": "ipython",
    "version": 3
   },
   "file_extension": ".py",
   "mimetype": "text/x-python",
   "name": "python",
   "nbconvert_exporter": "python",
   "pygments_lexer": "ipython3",
   "version": "3.10.13"
  }
 },
 "nbformat": 4,
 "nbformat_minor": 2
}
