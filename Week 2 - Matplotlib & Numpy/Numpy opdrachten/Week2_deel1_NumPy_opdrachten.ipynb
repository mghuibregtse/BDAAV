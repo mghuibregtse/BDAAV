{
 "cells": [
  {
   "cell_type": "markdown",
   "metadata": {},
   "source": [
    "# NumPy opdrachten"
   ]
  },
  {
   "cell_type": "markdown",
   "metadata": {},
   "source": [
    "# Opdracht 1: BMI\n",
    "\n",
    "In het bestand `student_data.txt` staat informatie over studenten.\n",
    "\n",
    "a) Maak een array met de gewichten van de studenten.<br>\n",
    "b) Maak een array met de lengtes van de studenten.<br>\n",
    "c) Maak een array met de BMI (=gewicht/lengte^2) van de studenten en print deze uit.<br>\n",
    "d) Print de laagste en de hoogste BMI, de gemiddelde BMI en de standaarddeviatie.\n",
    "\n",
    "Data van een nieuwe student komt binnen; 96 kg en 1.88 m.<br>\n",
    "e) Vul de arrays met de gewichten, lengtes en BMI aan met de gegevens van de nieuwe student.<br>\n",
    "f) Print de BMI van de nieuwe student.<br>\n",
    "g) Print de nieuwe gemiddelde BMI over alle studenten.\n"
   ]
  },
  {
   "cell_type": "code",
   "execution_count": 36,
   "metadata": {
    "collapsed": true,
    "ExecuteTime": {
     "end_time": "2024-01-30T10:01:58.913739Z",
     "start_time": "2024-01-30T10:01:58.892658300Z"
    }
   },
   "outputs": [
    {
     "name": "stdout",
     "output_type": "stream",
     "text": [
      "BMI [23.79552644 26.54320988 17.95918367 24.09297052 20.9572742  20.99054097\n",
      " 25.76298058 22.78330889 21.51385851 22.24392361]\n",
      "Lowest bmi 17.959183673469386 Heighest bmi 26.54320987654321 average 22.664277727206713 standard deviation 2.394503224554205\n",
      "[85. 86. 55. 68. 62. 79. 78. 73. 60. 82.]\n",
      "27.16161158895428\n",
      "23.073126260092856\n"
     ]
    }
   ],
   "source": [
    "import numpy as np\n",
    "studenten_data = np.loadtxt(\"student_data.txt\", skiprows=1)\n",
    "length_student = studenten_data[:,3]\n",
    "weight_student = studenten_data[:,2]\n",
    "BMI_student = weight_student/length_student ** 2\n",
    "print(\"BMI\", BMI_student)\n",
    "print(\"Lowest bmi\", np.min(BMI_student), \"Heighest bmi\", np.max(BMI_student), \"average\", np.average(BMI_student), \"standard deviation\", np.std(BMI_student))\n",
    "print(weight_student)\n",
    "weight_student = np.append(weight_student, [96])\n",
    "length_student = np.append(length_student, [1.88])\n",
    "BMI_student = weight_student/length_student ** 2\n",
    "print(BMI_student[-1])\n",
    "print(np.average(BMI_student))"
   ]
  },
  {
   "cell_type": "markdown",
   "metadata": {},
   "source": [
    "# Opdracht 2: array splitsen\n",
    "\n",
    "a) Creëer een 2D-array van 6 rijen en 9 kolommen met random getallen.<br>\n",
    "b) Split de array in 3 kleinere 2D-arrays van 6 rijen en 3 kolommen.<br>\n",
    "c) Split de array gecreëerd bij a in 3 kleinere 2D-arrays van 2 rijen en 9 kolommen.\n"
   ]
  },
  {
   "cell_type": "code",
   "execution_count": 46,
   "metadata": {
    "collapsed": true,
    "ExecuteTime": {
     "end_time": "2024-01-30T10:06:36.173294600Z",
     "start_time": "2024-01-30T10:06:36.162847900Z"
    }
   },
   "outputs": [
    {
     "name": "stdout",
     "output_type": "stream",
     "text": [
      "[[0.94171008 0.92276875 0.94543646 0.81085762 0.04008397 0.41385032\n",
      "  0.60280784 0.93322998 0.2988979 ]\n",
      " [0.3955498  0.52211739 0.41827775 0.15646996 0.51883482 0.04021917\n",
      "  0.19545427 0.92234608 0.18461775]\n",
      " [0.61474761 0.06765788 0.31202238 0.01892362 0.6888163  0.99098849\n",
      "  0.21012403 0.09258228 0.45825666]\n",
      " [0.82856604 0.61470509 0.31181066 0.35542094 0.37481609 0.94826657\n",
      "  0.89204057 0.02514478 0.17586457]\n",
      " [0.20745633 0.42145748 0.34110716 0.92436451 0.50783489 0.38334992\n",
      "  0.43253228 0.55715524 0.89949656]\n",
      " [0.39946545 0.30600701 0.40244364 0.72596953 0.33511211 0.50917877\n",
      "  0.00113907 0.33646669 0.10747842]]\n",
      "[array([[0.94171008, 0.92276875, 0.94543646],\n",
      "       [0.3955498 , 0.52211739, 0.41827775],\n",
      "       [0.61474761, 0.06765788, 0.31202238],\n",
      "       [0.82856604, 0.61470509, 0.31181066],\n",
      "       [0.20745633, 0.42145748, 0.34110716],\n",
      "       [0.39946545, 0.30600701, 0.40244364]]), array([[0.81085762, 0.04008397, 0.41385032],\n",
      "       [0.15646996, 0.51883482, 0.04021917],\n",
      "       [0.01892362, 0.6888163 , 0.99098849],\n",
      "       [0.35542094, 0.37481609, 0.94826657],\n",
      "       [0.92436451, 0.50783489, 0.38334992],\n",
      "       [0.72596953, 0.33511211, 0.50917877]]), array([[0.60280784, 0.93322998, 0.2988979 ],\n",
      "       [0.19545427, 0.92234608, 0.18461775],\n",
      "       [0.21012403, 0.09258228, 0.45825666],\n",
      "       [0.89204057, 0.02514478, 0.17586457],\n",
      "       [0.43253228, 0.55715524, 0.89949656],\n",
      "       [0.00113907, 0.33646669, 0.10747842]])]\n"
     ]
    }
   ],
   "source": [
    "new_arr = np.random.random((6,9))\n",
    "print(new_arr)\n",
    "small_array = np.hsplit(new_arr,3)\n",
    "print(small_array)\n",
    "smallest_array = np.vsplit(new_arr,3)"
   ]
  },
  {
   "cell_type": "markdown",
   "metadata": {},
   "source": [
    "# Opdracht 3: kwadraten array\n",
    "\n",
    "a) Vul een 2D-array van 10 rijen en 10 kolommen met het kwadraat van de getallen 0 t/m 99. (Dit kan in 1 regel.)<br>\n",
    "b) Print de array uit."
   ]
  },
  {
   "cell_type": "code",
   "execution_count": 47,
   "metadata": {
    "collapsed": true,
    "ExecuteTime": {
     "end_time": "2024-01-30T10:08:30.495617500Z",
     "start_time": "2024-01-30T10:08:30.484210500Z"
    }
   },
   "outputs": [
    {
     "name": "stdout",
     "output_type": "stream",
     "text": [
      "[[   0    1    4    9   16   25   36   49   64   81]\n",
      " [ 100  121  144  169  196  225  256  289  324  361]\n",
      " [ 400  441  484  529  576  625  676  729  784  841]\n",
      " [ 900  961 1024 1089 1156 1225 1296 1369 1444 1521]\n",
      " [1600 1681 1764 1849 1936 2025 2116 2209 2304 2401]\n",
      " [2500 2601 2704 2809 2916 3025 3136 3249 3364 3481]\n",
      " [3600 3721 3844 3969 4096 4225 4356 4489 4624 4761]\n",
      " [4900 5041 5184 5329 5476 5625 5776 5929 6084 6241]\n",
      " [6400 6561 6724 6889 7056 7225 7396 7569 7744 7921]\n",
      " [8100 8281 8464 8649 8836 9025 9216 9409 9604 9801]]\n"
     ]
    }
   ],
   "source": [
    "sq_arr = np.arange(100).reshape(10,10) ** 2\n",
    "print(sq_arr)"
   ]
  },
  {
   "cell_type": "code",
   "execution_count": null,
   "outputs": [],
   "source": [],
   "metadata": {
    "collapsed": false
   }
  }
 ],
 "metadata": {
  "kernelspec": {
   "display_name": "Python 3 (ipykernel)",
   "language": "python",
   "name": "python3"
  },
  "language_info": {
   "codemirror_mode": {
    "name": "ipython",
    "version": 3
   },
   "file_extension": ".py",
   "mimetype": "text/x-python",
   "name": "python",
   "nbconvert_exporter": "python",
   "pygments_lexer": "ipython3",
   "version": "3.10.13"
  }
 },
 "nbformat": 4,
 "nbformat_minor": 2
}
