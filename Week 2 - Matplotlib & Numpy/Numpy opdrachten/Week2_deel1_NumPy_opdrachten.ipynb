{
 "cells": [
  {
   "cell_type": "markdown",
   "metadata": {},
   "source": [
    "# NumPy opdrachten"
   ]
  },
  {
   "cell_type": "markdown",
   "metadata": {},
   "source": [
    "# Opdracht 1: BMI\n",
    "\n",
    "In het bestand `student_data.txt` staat informatie over studenten.\n",
    "\n",
    "a) Maak een array met de gewichten van de studenten.<br>\n",
    "b) Maak een array met de lengtes van de studenten.<br>\n",
    "c) Maak een array met de BMI (=gewicht/lengte^2) van de studenten en print deze uit.<br>\n",
    "d) Print de laagste en de hoogste BMI, de gemiddelde BMI en de standaarddeviatie.\n",
    "\n",
    "Data van een nieuwe student komt binnen; 96 kg en 1.88 m.<br>\n",
    "e) Vul de arrays met de gewichten, lengtes en BMI aan met de gegevens van de nieuwe student.<br>\n",
    "f) Print de BMI van de nieuwe student.<br>\n",
    "g) Print de nieuwe gemiddelde BMI over alle studenten.\n"
   ]
  },
  {
   "cell_type": "code",
   "execution_count": null,
   "metadata": {
    "collapsed": true
   },
   "outputs": [],
   "source": []
  },
  {
   "cell_type": "markdown",
   "metadata": {},
   "source": [
    "# Opdracht 2: array splitsen\n",
    "\n",
    "a) Creëer een 2D-array van 6 rijen en 9 kolommen met random getallen.<br>\n",
    "b) Split de array in 3 kleinere 2D-arrays van 6 rijen en 3 kolommen.<br>\n",
    "c) Split de array gecreëerd bij a in 3 kleinere 2D-arrays van 2 rijen en 9 kolommen.\n"
   ]
  },
  {
   "cell_type": "code",
   "execution_count": null,
   "metadata": {
    "collapsed": true
   },
   "outputs": [],
   "source": []
  },
  {
   "cell_type": "markdown",
   "metadata": {},
   "source": [
    "# Opdracht 3: kwadraten array\n",
    "\n",
    "a) Vul een 2D-array van 10 rijen en 10 kolommen met het kwadraat van de getallen 0 t/m 99. (Dit kan in 1 regel.)<br>\n",
    "b) Print de array uit."
   ]
  },
  {
   "cell_type": "code",
   "execution_count": null,
   "metadata": {
    "collapsed": true
   },
   "outputs": [],
   "source": []
  }
 ],
 "metadata": {
  "kernelspec": {
   "display_name": "Python 3 (ipykernel)",
   "language": "python",
   "name": "python3"
  },
  "language_info": {
   "codemirror_mode": {
    "name": "ipython",
    "version": 3
   },
   "file_extension": ".py",
   "mimetype": "text/x-python",
   "name": "python",
   "nbconvert_exporter": "python",
   "pygments_lexer": "ipython3",
   "version": "3.10.13"
  }
 },
 "nbformat": 4,
 "nbformat_minor": 2
}
