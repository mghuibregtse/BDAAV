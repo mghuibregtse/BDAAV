{
 "cells": [
  {
   "cell_type": "markdown",
   "metadata": {},
   "source": [
    "<p STYLE=\"font-size: 20px\"><b>NumPy</b> (Numeric Python) is een package die erg nuttig is voor wiskundige scripts. De library biedt functies die gebruik maken van (multi-dimensionale) arrays. Deze hebben vele voordelen t.o.v. Python lists. Zo zijn ze compacter, sneller, gemakkelijker en efficiënter.</p>\n",
    "\n",
    "Nuttige websites:\n",
    "1. https://docs.scipy.org/doc/numpy-1.15.1/user/quickstart.html\n",
    "2. https://docs.scipy.org/doc/numpy-1.15.1/reference/\n",
    "3. https://www.datacamp.com/community/tutorials/python-numpy-tutorial\n",
    "\n",
    "Simpele demonstratie waarom **NumPy** veel handiger *en* sneller is dan standaard Python. \n",
    "(Dit voorbeeld kan je makkelijk zelf uitvoeren - leuk om te proberen na deze les!):\n",
    "* http://zwmiller.com/blogs/why_numpy_is_so_great.html\n",
    "\n",
    "<img src=\"https://www.safaribooksonline.com/library/view/elegant-scipy/9781491922927/assets/elsp_0105.png\" height=\"268\" width=\"480\" align=\"left\">\n",
    "\n",
    "\n",
    "\n"
   ]
  },
  {
   "cell_type": "markdown",
   "metadata": {},
   "source": [
    "# 1D array"
   ]
  },
  {
   "cell_type": "code",
   "execution_count": 1,
   "metadata": {
    "scrolled": false
   },
   "outputs": [],
   "source": [
    "import numpy as np\n",
    "\n",
    "a1 = np.array([7,2,9,10])\n",
    "a2 = np.array([2,3,4,5])\n"
   ]
  },
  {
   "cell_type": "markdown",
   "metadata": {},
   "source": [
    "# 2D array"
   ]
  },
  {
   "cell_type": "code",
   "execution_count": 2,
   "metadata": {},
   "outputs": [],
   "source": [
    "a3 = np.array([[5.2, 3.0, 4.5],\n",
    "               [9.1, 0.1, 0.3]])\n"
   ]
  },
  {
   "cell_type": "markdown",
   "metadata": {},
   "source": [
    "# 3D array"
   ]
  },
  {
   "cell_type": "code",
   "execution_count": 3,
   "metadata": {},
   "outputs": [],
   "source": [
    "a4 = np.array([[[1,2], [4,3], [7,4]],\n",
    "               [[2,3], [9,6], [7,5]],\n",
    "               [[1,5], [3,4], [0,2]],\n",
    "               [[9,4], [6,5], [9,8]]])\n"
   ]
  },
  {
   "cell_type": "markdown",
   "metadata": {},
   "source": [
    "# Aanmaken verschillende arrays"
   ]
  },
  {
   "cell_type": "code",
   "execution_count": 1,
   "metadata": {},
   "outputs": [],
   "source": [
    "# Een array met range van 10 tot 20 met stapgrootte 2\n",
    "\n",
    "\n",
    "# Een array met nullen\n",
    "\n",
    "\n",
    "# Random arrays\n"
   ]
  },
  {
   "cell_type": "markdown",
   "metadata": {},
   "source": [
    "# Reshape, transpose, stack en indexing"
   ]
  },
  {
   "cell_type": "code",
   "execution_count": 1,
   "metadata": {},
   "outputs": [],
   "source": [
    "# Reshape\n",
    "\n",
    "\n",
    "# Transpose\n",
    "\n",
    "\n",
    "# Stack\n",
    "\n",
    "\n",
    "# Indexing\n",
    "\n",
    "\n"
   ]
  },
  {
   "cell_type": "markdown",
   "metadata": {},
   "source": [
    "# Bestand als input voor arrays"
   ]
  },
  {
   "cell_type": "code",
   "execution_count": null,
   "metadata": {},
   "outputs": [],
   "source": []
  }
 ],
 "metadata": {
  "kernelspec": {
   "display_name": "Python 3 (ipykernel)",
   "language": "python",
   "name": "python3"
  },
  "language_info": {
   "codemirror_mode": {
    "name": "ipython",
    "version": 3
   },
   "file_extension": ".py",
   "mimetype": "text/x-python",
   "name": "python",
   "nbconvert_exporter": "python",
   "pygments_lexer": "ipython3",
   "version": "3.10.13"
  }
 },
 "nbformat": 4,
 "nbformat_minor": 2
}
