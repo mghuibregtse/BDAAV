{
 "cells": [
  {
   "cell_type": "markdown",
   "metadata": {},
   "source": [
    "# Opdracht 1: Regenval in India\n",
    "\n",
    "Onderzoekers in India hebben tussen 1951 en 2000 gemeten hoeveel millimeter regen er per district per maand is gevallen. Deze gegevens zijn te zien in het bestand `district_wise_rainfall_india.csv` dat op de DLO te vinden is ([bron van data](https://www.kaggle.com/rajanand/rainfall-in-india/data)).\n",
    "\n",
    "Maak een lijndiagram (line chart) met daarin de totale neerslag in India per maand. De neerslag van alle districten moet dus opgeteld worden voor elke maand. Op de x-as moeten de maanden komen te staan en op de y-as de totale neerslag (in mm). Geef het diagram duidelijke labels voor de x en y-as en een titel.\n"
   ]
  },
  {
   "cell_type": "code",
   "execution_count": null,
   "metadata": {
    "ExecuteTime": {
     "end_time": "2023-11-27T19:05:46.409905959Z",
     "start_time": "2023-11-27T19:05:46.409548168Z"
    }
   },
   "outputs": [],
   "source": []
  },
  {
   "cell_type": "markdown",
   "metadata": {},
   "source": [
    "# Opdracht 2: Thuisvoordeel in voetbalwedstrijden\n",
    "\n",
    "In het bestand `FMEL_Dataset.csv` dat op de DLO te vinden is ([bron van data](https://www.kaggle.com/ricardomoya/football-matches-of-spanish-league/data)), zijn uitslagen te vinden van alle voetbalwedstrijden in de Spaanse 1e en 2e divisie vanaf 1970.\n",
    "\n",
    "Jou is gevraagd om te onderzoeken wat het voordeel is van de thuisspelende clubs ten opzichte van uitspelende clubs. Wat je hiervoor moet doen is:\n",
    "- Trek voor elke wedstrijd het aantal uitdoelpunten af van het aantal thuisdoelpunten (een positief getal betekent dus dat de thuisclub heeft gewonnen) en zet deze uitkomsten in één array (de lengte van deze nieuwe array is dus gelijk aan het aantal wedstrijden).\n",
    "- Je moet voor elk getal dat voorkomt in de array tellen hoe vaak deze voorkomt en deze resultaten in een staafdiagram (bar chart) zetten.\n",
    "- De categorien/staven (op de x-as) van het diagram moeten lopen van de minimum t/m de maximum waardes in de array (bijv. 21 staven; van -10 t/m +10).\n",
    "- Geef het diagram duidelijke labels voor de x en y-as en een titel.\n"
   ]
  },
  {
   "cell_type": "code",
   "execution_count": null,
   "metadata": {
    "ExecuteTime": {
     "end_time": "2023-11-27T19:05:46.410177478Z",
     "start_time": "2023-11-27T19:05:46.409807264Z"
    },
    "scrolled": true
   },
   "outputs": [],
   "source": []
  },
  {
   "cell_type": "markdown",
   "metadata": {},
   "source": [
    "# Opdracht 3: Aantal doelpunten per wedstrijd\n",
    "\n",
    "Gebruik hetzelfde bestand als bij opdracht 2 om een cirkeldiagram (pie chart) te maken die een overzicht geeft van hoeveel doelpunten er per wedstrijd zijn gescoord. Bepaal hiervoor dus hoevaak elk doelpuntaantal voorkomt in de data (bijv. 0x gescoord in 3665 wedstrijden; 1x gescoord in 7515 wedstrijden).<br>\n",
    "Hieronder een voorbeeld hoe het diagram er uit kan komen te zien:<br> <img src=\"cirkeldiagram.png\" align=\"left\">\n"
   ]
  },
  {
   "cell_type": "code",
   "execution_count": null,
   "metadata": {
    "ExecuteTime": {
     "end_time": "2023-11-27T19:05:46.410317420Z",
     "start_time": "2023-11-27T19:05:46.410124518Z"
    }
   },
   "outputs": [],
   "source": []
  },
  {
   "cell_type": "markdown",
   "metadata": {},
   "source": [
    "# Opdracht 4: Wiskundige xy-assenstelsel\n",
    "\n",
    "Maak een wiskundig xy-assenstelel waar de x- en de y-coordinaten -5 tot 5 zijn.\n",
    "De figuurgrootte moet 7x7 zijn. De output moet er als volgt uit zien: <br>\n",
    "<img src=\"opd4.png\" align=\"left\">"
   ]
  },
  {
   "cell_type": "code",
   "execution_count": null,
   "metadata": {
    "ExecuteTime": {
     "end_time": "2023-11-27T19:05:46.410424070Z",
     "start_time": "2023-11-27T19:05:46.410264230Z"
    }
   },
   "outputs": [],
   "source": []
  },
  {
   "cell_type": "markdown",
   "metadata": {},
   "source": [
    "# Opdracht 5: grafiek tonen met een assenstelsel.\n",
    "\n",
    "\n",
    "\n",
    "\n",
    "Plaats in een assenstelsel de functie f.\n",
    "De functie f wordt als volgt gedefinieerd: $x^{4} - 6x^{2} + 4x + 12$\n",
    "Hierbij moet op positie (2.3, 14) de letter f getoond worden. Deze is 16 groot.\n",
    "De output moet er als volgt uit zien: <br>\n",
    "<img src=\"opd5.png\" align=\"left\">\n",
    "\n",
    "\n"
   ]
  },
  {
   "cell_type": "code",
   "execution_count": null,
   "metadata": {
    "ExecuteTime": {
     "end_time": "2023-11-27T19:05:46.410498600Z",
     "start_time": "2023-11-27T19:05:46.410385658Z"
    }
   },
   "outputs": [],
   "source": []
  }
 ],
 "metadata": {
  "kernelspec": {
   "display_name": "Python 3 (ipykernel)",
   "language": "python",
   "name": "python3"
  },
  "language_info": {
   "codemirror_mode": {
    "name": "ipython",
    "version": 3
   },
   "file_extension": ".py",
   "mimetype": "text/x-python",
   "name": "python",
   "nbconvert_exporter": "python",
   "pygments_lexer": "ipython3",
   "version": "3.10.13"
  }
 },
 "nbformat": 4,
 "nbformat_minor": 2
}
