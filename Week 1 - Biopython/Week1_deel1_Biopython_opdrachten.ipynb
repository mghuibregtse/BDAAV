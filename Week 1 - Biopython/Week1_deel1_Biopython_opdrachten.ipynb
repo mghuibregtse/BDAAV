{
 "cells": [
  {
   "cell_type": "markdown",
   "metadata": {},
   "source": [
    "<h2>Biopython opdrachten</h2>\n",
    "\n",
    "De volgende opdrachten gaan over Biopython. Installeer de Biopython package via de Anaconda Navigator (tabblad Environments).\n",
    "\n",
    "Handige documenten/websites voor Biopython:<br>\n",
    "1) http://biopython.org/DIST/docs/api/<br>\n",
    "2) http://biopython.org/wiki/Documentation\n",
    "\n",
    "Gebruik de Module Bio.Seq voor opdrachten 1 en 2.\n",
    "\n",
    "<b>Opdracht 1:</b> Geef de reverse-complement sequentie van \"TTAATGCGGACACAT\".<br>\n",
    "<b>Opdracht 2:</b> Vertaal de reverse-complement sequentie naar aminozuren."
   ]
  },
  {
   "cell_type": "code",
   "execution_count": null,
   "metadata": {
    "ExecuteTime": {
     "end_time": "2023-11-20T13:44:53.249118007Z",
     "start_time": "2023-11-20T13:44:53.201694458Z"
    },
    "scrolled": false
   },
   "outputs": [],
   "source": []
  },
  {
   "cell_type": "markdown",
   "metadata": {},
   "source": [
    "Gebruik Bio.SeqIO (http://biopython.org/wiki/SeqIO) voor opdracht 3.\n",
    "\n",
    "<b>Opdracht 3:</b> Het bestand \"lp_protein.faa\" bevat alle eiwitsequenties van de bacterie <i>Lactobacillus plantarum</i>. Print van alle eiwitten de ID, de lengte en de eerste 3 aminozuren (tip: de sequentie van elke record kun je ophalen d.m.v. .seq). De output moet er als volgt uitzien:<br>\n",
    "1 YP_004888094.1 455 MLE<br>\n",
    "2 YP_004888095.1 379 MKF<br>\n",
    "...<br>\n",
    "3062 YP_133756.1 195 MII<br>\n",
    "3063 YP_133757.1 997 MPT"
   ]
  },
  {
   "cell_type": "code",
   "execution_count": null,
   "metadata": {
    "ExecuteTime": {
     "end_time": "2023-11-20T13:44:53.249606965Z",
     "start_time": "2023-11-20T13:44:53.212775752Z"
    }
   },
   "outputs": [],
   "source": []
  },
  {
   "cell_type": "markdown",
   "metadata": {},
   "source": [
    "Gebruik Bio.Entrez, http://www.ncbi.nlm.nih.gov/books/NBK25499/#chapter4.EFetch en http://biopython.org/DIST/docs/tutorial/Tutorial.html#htoc129 (of gebruik Google!) voor opdrachten 4 t/m 7.\n",
    "\n",
    "<b>Opdracht 4</b><br>\n",
    "a) Haal de sequentie op van het eiwit \"YP_004888094.1\" (in fasta-formaat).<br>\n",
    "b) Haal het genbank-bestand op van ditzelfde eiwit.\n"
   ]
  },
  {
   "cell_type": "code",
   "execution_count": null,
   "metadata": {
    "ExecuteTime": {
     "end_time": "2023-11-20T13:44:53.285642531Z",
     "start_time": "2023-11-20T13:44:53.220134436Z"
    },
    "scrolled": true
   },
   "outputs": [],
   "source": []
  },
  {
   "cell_type": "markdown",
   "metadata": {},
   "source": [
    "<b>Opdracht 5</b><br>\n",
    "a) Hoeveel PubMed artikelen zijn er als je de zoekterm \"Jupyter\" gebruikt.<br>\n",
    "b) Zit het PubMed artikel met PMID 28542180 hiertussen?"
   ]
  },
  {
   "cell_type": "code",
   "execution_count": null,
   "metadata": {
    "ExecuteTime": {
     "end_time": "2023-11-20T13:44:53.286258443Z",
     "start_time": "2023-11-20T13:44:53.230982934Z"
    }
   },
   "outputs": [],
   "source": []
  },
  {
   "cell_type": "markdown",
   "metadata": {},
   "source": [
    "<b>Opdracht 6</b>: Haal het gehele artikel op (als XML-file) via de PMC database (PMC id=5444614)"
   ]
  },
  {
   "cell_type": "code",
   "execution_count": null,
   "metadata": {
    "ExecuteTime": {
     "end_time": "2023-11-20T13:44:53.287159822Z",
     "start_time": "2023-11-20T13:44:53.231215941Z"
    }
   },
   "outputs": [],
   "source": []
  },
  {
   "cell_type": "markdown",
   "metadata": {},
   "source": [
    "<b>Opdracht 7</b>: Maak gebruik van Bio.Medline en print de titel, een lijst met de auteurs en de samenvatting van PMID 28542180."
   ]
  },
  {
   "cell_type": "code",
   "execution_count": null,
   "metadata": {
    "ExecuteTime": {
     "end_time": "2023-11-20T13:44:53.287403870Z",
     "start_time": "2023-11-20T13:44:53.245245289Z"
    }
   },
   "outputs": [],
   "source": []
  },
  {
   "cell_type": "markdown",
   "metadata": {},
   "source": [
    "<b>Opdracht 8</b>: Hoeveel cysteines bevat de KEGG entry 2952 van de mens?"
   ]
  },
  {
   "cell_type": "code",
   "execution_count": null,
   "metadata": {
    "ExecuteTime": {
     "end_time": "2023-11-20T13:44:53.287489634Z",
     "start_time": "2023-11-20T13:44:53.245467736Z"
    }
   },
   "outputs": [],
   "source": []
  },
  {
   "cell_type": "markdown",
   "metadata": {},
   "source": [
    "<b>Opdracht 9</b>: Geef van de Kegg entry 127023780 van de <i>Gymnogyps californianus</i> (California condor) het nummer van het chromosoom en de positie van het gen op dit chromosoom."
   ]
  },
  {
   "cell_type": "code",
   "execution_count": null,
   "metadata": {
    "ExecuteTime": {
     "end_time": "2023-11-20T13:44:53.298728601Z",
     "start_time": "2023-11-20T13:44:53.286879504Z"
    }
   },
   "outputs": [],
   "source": []
  }
 ],
 "metadata": {
  "kernelspec": {
   "display_name": "Python 3 (ipykernel)",
   "language": "python",
   "name": "python3"
  },
  "language_info": {
   "codemirror_mode": {
    "name": "ipython",
    "version": 3
   },
   "file_extension": ".py",
   "mimetype": "text/x-python",
   "name": "python",
   "nbconvert_exporter": "python",
   "pygments_lexer": "ipython3",
   "version": "3.9.13"
  }
 },
 "nbformat": 4,
 "nbformat_minor": 2
}
