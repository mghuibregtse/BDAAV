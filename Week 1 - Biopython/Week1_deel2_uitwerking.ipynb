{
 "cells": [
  {
   "cell_type": "markdown",
   "metadata": {},
   "source": [
    "<h2>Biopython (deel 2) en BioMart</h2>\n",
    "\n",
    "Gebruik voor opdracht 1 de Modules Bio.AlignIO en Bio.Align.AlignInfo. Documentatie en voorbeelden kun je vinden op: http://biopython.org/DIST/docs/tutorial/Tutorial.html.\n",
    "\n",
    "<b>Opdracht 1: Alignments</b>\n",
    "\n",
    "Het bestand 'clustalw.aln' bevat een alignment in clustal format.\n",
    "\n",
    "a) Zet het bestand om in fasta-format en sla dit op als 'fasta.aln'.<br>\n",
    "b) Print de lengte van de alignment.<br>\n",
    "c) Maak een Position-Specific Score Matrix van de alignment.<br>\n",
    "d) Gebruik de PSSM om te kijken op welke posities één van de basen 18x of vaker voorkomt. Print hiervan de positie, de base en het aantal keer dat de base op de positie voorkomt. De output moet er als volgt uit komen te zien:<br>\n",
    "```\n",
    "29 A 18\n",
    "30 T 22\n",
    "...\n",
    "67 A 18\n",
    "100 G 18\n",
    "```\n",
    "e) Maak een consensus sequentie van de alignment en print hiervan posities 28 t/m 48.\n"
   ]
  },
  {
   "cell_type": "code",
   "execution_count": 1,
   "metadata": {},
   "outputs": [
    {
     "name": "stdout",
     "output_type": "stream",
     "text": [
      "Lengte van de alignment: 117\n",
      "29 A 18\n",
      "30 T 22\n",
      "31 G 22\n",
      "32 T 22\n",
      "34 A 22\n",
      "37 A 19\n",
      "38 A 18\n",
      "42 T 22\n",
      "44 A 22\n",
      "45 C 22\n",
      "46 A 21\n",
      "47 T 22\n",
      "52 T 18\n",
      "57 A 19\n",
      "67 A 18\n",
      "100 G 18\n",
      "De consensus sequentie is:  XATGTXAXXAAXXCTXACATX\n"
     ]
    }
   ],
   "source": [
    "from Bio import AlignIO\n",
    "from Bio.Align import AlignInfo\n",
    "\n",
    "AlignIO.convert(\"clustalw.aln\", \"clustal\", \"fasta.aln\", \"fasta\")\n",
    "\n",
    "# Voor onderstaande opdrachten kun je ook verder gaan met clustalw.aln.\n",
    "fasta_alignment = AlignIO.read(open(\"fasta.aln\"), \"fasta\")\n",
    "\n",
    "alignment_length = fasta_alignment.get_alignment_length()\n",
    "print(\"Lengte van de alignment:\", alignment_length)\n",
    "\n",
    "summary_align = AlignInfo.SummaryInfo(fasta_alignment)\n",
    "pssm = summary_align.pos_specific_score_matrix()\n",
    "\n",
    "for pos in range(alignment_length):\n",
    "    for base in [\"A\", \"C\", \"G\", \"T\"]:\n",
    "        if pssm[pos][base] >= 18:\n",
    "            print(pos+1, base, int(pssm[pos][base]))\n",
    "\n",
    "consensus = summary_align.dumb_consensus()\n",
    "print(\"De consensus sequentie is: \", consensus[27:48]) #28 t/m 48\n"
   ]
  },
  {
   "cell_type": "markdown",
   "metadata": {},
   "source": [
    "<b>Opdracht 2: BioMart</b>\n",
    "\n",
    "Dit script maakt gebruik van de package [_biomart_](https://pypi.python.org/pypi/biomart). Deze is __niet__ voor-geinstalleerd op anaconda. Je kunt *biomart* installeren met behulp van pip (een package management system om Python software packages te installeren en managen). Open de Anaconda Prompt en typ \"```pip install biomart```\".\n",
    "\n",
    "Kijk op [de biomart webpagina](http://biomart.org) voor een overzicht van de verschillende _biomart_ databases.\n",
    "\n",
    "In deze opdracht gaan we [Ensembl](https://www.ensembl.org) gebruiken.\n",
    "\n",
    "Hieronder een voorbeeld hoe je van het gen met ENSG00000085840 de upstream region (het gedeelte voor het gen; de promoter) kan ophalen."
   ]
  },
  {
   "cell_type": "code",
   "execution_count": 2,
   "metadata": {},
   "outputs": [
    {
     "name": "stdout",
     "output_type": "stream",
     "text": [
      "Flank (Gene)\tGene stable ID\n",
      "GAAGCCGGAAACACCGTAGTGTAAAGGGCTTCCGCTCCCCGCGTCGCCTATCGAATCAATGATGGCGGCTGCATGTTAGCGGATGTACGTCATGCGCCCCTCTTAGGTGTACGGAGTGGGCGGGGCGAGCTAGTTGGTGTCGCAACGAAGGGACGGTCTGGGGGCGGGGCCACGCCGATTGGCGCGAAGTTTTCTTTTCT\tENSG00000085840\n",
      "\n"
     ]
    }
   ],
   "source": [
    "from biomart import BiomartServer\n",
    "\n",
    "server = BiomartServer(\"http://www.ensembl.org/biomart\")\n",
    "human_dataset = server.datasets['hsapiens_gene_ensembl']\n",
    "\n",
    "response = human_dataset.search({\n",
    "  'filters' : {'ensembl_gene_id' : 'ENSG00000085840', 'upstream_flank' : 200},\n",
    "  'attributes' : ['ensembl_gene_id', 'gene_flank']\n",
    "  }, header=1)\n",
    "\n",
    "print(response.text)\n",
    "\n",
    "## Update:\n",
    "## Het kan zijn dat de upstream flank soms een foutmelding geeft.\n",
    "## In dat geval een paar keer de code runnen om te kijken of het een keer goed gaat.\n",
    "## Blijft het fout gaan dan bij de filters de upstream flank weghalen\n",
    "## en bij de attributes de gene flank weghalen.\n",
    "## Bij de opdracht hoeft dan de upstream flank niet getoond te worden."
   ]
  },
  {
   "cell_type": "markdown",
   "metadata": {},
   "source": [
    "Een dataset beschikt over filters en attributen. Met filters kan je aangeven aan welke criteria je data moet voldoen. Veelgebruikte filters zijn bijvoorbeeld gennamen of eiwit identifiers. De volledige lijst met beschikbare filters kun je vinden door de dictionary ```<datasetnaam>.show_filters()``` te bekijken. De volledige lijst met attributen kun je bekijken met ```<datasetnaam>.show_attributes()```.\n",
    "\n",
    "* Gebruik de volgende filters:\n",
    "    1. Ensembl genen: ENSG00000123080, ENSG00000116574, ENSG00000125885, ENSG00000129355, ENSG00000183434, ENSG00000172201, ENSG00000206557, ENSG00000204086\n",
    "    2. Upstream flank van 200 bp.\n",
    "* En toon de volgende attributen:\n",
    "    1. Ensembl gene ID\n",
    "    2. Strand waarop het gen zit\n",
    "    3. Startpositie van het gen\n",
    "    4. Stoppositie van het gen\n",
    "    5. Transcript startpositie\n",
    "    6. 'Genomic coding' startpositie\n",
    "    7. Upstream flank van 200 bp \n",
    "\n",
    "De response van de query komt terug in de vorm van tab-delimited text."
   ]
  },
  {
   "cell_type": "code",
   "execution_count": 3,
   "metadata": {},
   "outputs": [
    {
     "name": "stdout",
     "output_type": "stream",
     "text": [
      "Flank (Gene)\tGene stable ID\tStrand\tGene start (bp)\tGene end (bp)\tTranscript start (bp)\tGenomic coding start\n",
      "GGCCCAGACCTCAAGACCGCTTCCGGAAGCCTCTCGGCTTCCGTCTGGCCAAACTCCTTGATTGGCTGCACTCCGCCCCGCCCCTCTCGTCTTGCCGCTT\tENSG00000125885\t1\t5950652\t5998977\t5950652;5950931\t5972007;5952016;5982970;5955102;5977876;5954608;5987282;5958528;5967878;5967436;5993506;5952424;5967830;5973056;5985922;5994299;5984781;5957126;5963274;5972576\n",
      "TACAGCTTCATATAGTCTCTCACGCTCAACCTGTCAAAACCGAATCCACACTGTCACACCCAGTCCCAAGCTCCCTGACGTCTGCATCCTCAGACTCCGT\tENSG00000123080\t1\t50960745\t50974634\t50970245;50960745;50968706\t50970369;50973893\n",
      "CCAGCGGGCTCCGCTCGGCTCGCGCTGCGACCCGGCCCGCGCGCTGGTCCCGCCCCCGGGGCGCACGGCTCTATAAATACAGCTGCGCGGCGGGCCGGGC\tENSG00000172201\t1\t19837370\t19842197\t19837370\t19837755;19838584\n",
      "GCTCCTAAAATTTCTGTTGCATTGTTGTTTGAATGAATGAATAAATGAGTCTTTTAAAAGTAATTGTAGAAGTTGCAGCATTAAGAAATAAAGAGGGGGG\tENSG00000204086\t1\t96883908\t96885467\t96883908\t96884311\n",
      "ACGCACGTTACGCCACGCACGTTACGCCACGCACGTTACGCCACGCACGTTACGCCACGCACGTTACGCCACGCACGTTACGCCACGCACGTTACGCCAC\tENSG00000183434\t-1\t133216662\t133218354\t133216662\t133217042\n",
      "GACCGAGCCGCTCGGCCAGACCCGCCTCTTTTCCCTCCCCGCCAGCCCGCCCGCCTGCCCGCCCCCCACGCGTCGTGTCGCCGGGAAGCCGGGCGGAGAC\tENSG00000116574\t1\t228735479\t228746664\t228735479\t228735743;228737673;228743285\n",
      "AGCCACTGGTTATGCAGGCCCTGTGGGCGGAACGCCGTAAGGTCGCGCGCCGGGCAACGCGGTGCCGCTACACAGTAGCGAGTTTGTAAGAAAACAAATC\tENSG00000129355\t-1\t10566460\t10569059\t10566460;10566601\t10568513;10567058\n",
      "CGCTCGGGCCGGACGTGGCGAGGCCAAGCGGGCAGCGCTGCTCTGGTGCCGGCTCCCGGATTGCAGGCCTAATCGATGCATTTTTCTGAGTGAGTCGGTG\tENSG00000206557\t1\t32817997\t32897824\t32817997\t32890360;32885934;32873818;32818081\n",
      "\n",
      "                                        Flank (Gene)   Gene stable ID  Strand  \\\n",
      "0  GGCCCAGACCTCAAGACCGCTTCCGGAAGCCTCTCGGCTTCCGTCT...  ENSG00000125885       1   \n",
      "1  TACAGCTTCATATAGTCTCTCACGCTCAACCTGTCAAAACCGAATC...  ENSG00000123080       1   \n",
      "2  CCAGCGGGCTCCGCTCGGCTCGCGCTGCGACCCGGCCCGCGCGCTG...  ENSG00000172201       1   \n",
      "3  GCTCCTAAAATTTCTGTTGCATTGTTGTTTGAATGAATGAATAAAT...  ENSG00000204086       1   \n",
      "4  ACGCACGTTACGCCACGCACGTTACGCCACGCACGTTACGCCACGC...  ENSG00000183434      -1   \n",
      "5  GACCGAGCCGCTCGGCCAGACCCGCCTCTTTTCCCTCCCCGCCAGC...  ENSG00000116574       1   \n",
      "6  AGCCACTGGTTATGCAGGCCCTGTGGGCGGAACGCCGTAAGGTCGC...  ENSG00000129355      -1   \n",
      "7  CGCTCGGGCCGGACGTGGCGAGGCCAAGCGGGCAGCGCTGCTCTGG...  ENSG00000206557       1   \n",
      "\n",
      "   Gene start (bp)  Gene end (bp)       Transcript start (bp)  \\\n",
      "0          5950652        5998977             5950652;5950931   \n",
      "1         50960745       50974634  50970245;50960745;50968706   \n",
      "2         19837370       19842197                    19837370   \n",
      "3         96883908       96885467                    96883908   \n",
      "4        133216662      133218354                   133216662   \n",
      "5        228735479      228746664                   228735479   \n",
      "6         10566460       10569059           10566460;10566601   \n",
      "7         32817997       32897824                    32817997   \n",
      "\n",
      "                                Genomic coding start  \n",
      "0  5972007;5952016;5982970;5955102;5977876;595460...  \n",
      "1                                  50970369;50973893  \n",
      "2                                  19837755;19838584  \n",
      "3                                           96884311  \n",
      "4                                          133217042  \n",
      "5                      228735743;228737673;228743285  \n",
      "6                                  10568513;10567058  \n",
      "7                32890360;32885934;32873818;32818081  \n"
     ]
    }
   ],
   "source": [
    "#human_dataset.show_filters()\n",
    "#human_dataset.show_attributes()\n",
    "\n",
    "entrylist = [\"ENSG00000123080\", \"ENSG00000116574\", \"ENSG00000125885\", \"ENSG00000129355\", \n",
    "             \"ENSG00000183434\", \"ENSG00000172201\", \"ENSG00000206557\", \"ENSG00000204086\"]\n",
    "\n",
    "response = human_dataset.search({\n",
    "  'filters' : {'ensembl_gene_id' : entrylist, 'upstream_flank' : 100},\n",
    "  'attributes' : ['ensembl_gene_id', 'strand', 'start_position', 'end_position', 'transcript_start', \n",
    "                  'genomic_coding_start', 'gene_flank']\n",
    "  },\n",
    "  header=1)\n",
    "\n",
    "print(response.text)\n",
    "\n",
    "\n",
    "#Alvast een dataframe maken van de response. Hier gaan we later verder op in.\n",
    "import pandas as pd\n",
    "from io import StringIO\n",
    "seqs = pd.read_table(StringIO(response.text), sep=\"\\t\")\n",
    "\n",
    "print(seqs)\n",
    "#seqs.head()\n"
   ]
  }
 ],
 "metadata": {
  "kernelspec": {
   "display_name": "Python 3 (ipykernel)",
   "language": "python",
   "name": "python3"
  },
  "language_info": {
   "codemirror_mode": {
    "name": "ipython",
    "version": 3
   },
   "file_extension": ".py",
   "mimetype": "text/x-python",
   "name": "python",
   "nbconvert_exporter": "python",
   "pygments_lexer": "ipython3",
   "version": "3.9.13"
  }
 },
 "nbformat": 4,
 "nbformat_minor": 2
}
