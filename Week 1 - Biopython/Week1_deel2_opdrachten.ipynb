{
 "cells": [
  {
   "cell_type": "markdown",
   "metadata": {},
   "source": [
    "<h2>Biopython (deel 2) en BioMart</h2>\n",
    "\n",
    "Gebruik voor opdracht 1 de Modules Bio.AlignIO en Bio.Align.AlignInfo. Documentatie en voorbeelden kun je vinden op: http://biopython.org/DIST/docs/tutorial/Tutorial.html.\n",
    "\n",
    "<b>Opdracht 1: Alignments</b>\n",
    "\n",
    "Het bestand 'clustalw.aln' bevat een alignment in clustal format.\n",
    "\n",
    "a) Zet het bestand om in fasta-format en sla dit op als 'fasta.aln'.<br>\n",
    "b) Print de lengte van de alignment.<br>\n",
    "c) Maak een Position-Specific Score Matrix van de alignment.<br>\n",
    "d) Gebruik de PSSM om te kijken op welke posities één van de basen 18x of vaker voorkomt. Print hiervan de positie, de base en het aantal keer dat de base op de positie voorkomt. De output moet er als volgt uit komen te zien:<br>\n",
    "```\n",
    "29 A 18\n",
    "30 T 22\n",
    "...\n",
    "67 A 18\n",
    "100 G 18\n",
    "```\n",
    "e) Maak een consensus sequentie van de alignment en print hiervan posities 28 t/m 48.\n"
   ]
  },
  {
   "cell_type": "code",
   "execution_count": null,
   "metadata": {
    "collapsed": true
   },
   "outputs": [],
   "source": []
  },
  {
   "cell_type": "markdown",
   "metadata": {},
   "source": [
    "<b>Opdracht 2: BioMart</b>\n",
    "\n",
    "Dit script maakt gebruik van de package [_biomart_](https://pypi.python.org/pypi/biomart). Deze is __niet__ voor-geinstalleerd op anaconda. Je kunt *biomart* installeren met behulp van pip (een package management system om Python software packages te installeren en managen). Open de Anaconda Prompt en typ \"```pip install biomart```\".\n",
    "\n",
    "Kijk op [de biomart webpagina](http://biomart.org) voor een overzicht van de verschillende _biomart_ databases.\n",
    "\n",
    "In deze opdracht gaan we [Ensembl](https://www.ensembl.org) gebruiken.\n",
    "\n",
    "Hieronder een voorbeeld hoe je van het gen met ENSG00000085840 de upstream region (het gedeelte voor het gen; de promoter) kan ophalen."
   ]
  },
  {
   "cell_type": "code",
   "execution_count": 1,
   "metadata": {},
   "outputs": [
    {
     "name": "stdout",
     "output_type": "stream",
     "text": [
      "Flank (Gene)\tGene stable ID\n",
      "GAAGAAGTTTCACTAAACAGCTTAGGCGACCATCTTGAAGCCGGAAACACCGTAGTGTAAAGGGCTTCCGCTCCCCGCGTCGCCTATCGAATCAATGATGGCGGCTGCATGTTAGCGGATGTACGTCATGCGCCCCTCTTAGGTGTACGGAGTGGGCGGGGCGAGCTAGTTGGTGTCGCAACGAAGGGACGGTCTGGGGG\tENSG00000085840\n",
      "\n"
     ]
    }
   ],
   "source": [
    "from biomart import BiomartServer\n",
    "\n",
    "server = BiomartServer(\"http://www.ensembl.org/biomart\")\n",
    "human_dataset = server.datasets['hsapiens_gene_ensembl']\n",
    "\n",
    "response = human_dataset.search({\n",
    "  'filters' : {'ensembl_gene_id' : 'ENSG00000085840', 'upstream_flank' : 200},\n",
    "  'attributes' : ['ensembl_gene_id', 'gene_flank']\n",
    "  }, header=1)\n",
    "\n",
    "print(response.text)\n",
    "\n",
    "## Update:\n",
    "## Het kan zijn dat de upstream flank soms een foutmelding geeft.\n",
    "## In dat geval een paar keer de code runnen om te kijken of het een keer goed gaat.\n",
    "## Blijft het fout gaan dan bij de filters de upstream flank weghalen\n",
    "## en bij de attributes de gene flank weghalen.\n",
    "## Bij de opdracht hoeft dan de upstream flank niet getoond te worden."
   ]
  },
  {
   "cell_type": "markdown",
   "metadata": {},
   "source": [
    "Een dataset beschikt over filters en attributen. Met filters kan je aangeven aan welke criteria je data moet voldoen. Veelgebruikte filters zijn bijvoorbeeld gennamen of eiwit identifiers. De volledige lijst met beschikbare filters kun je vinden door de dictionary ```<datasetnaam>.show_filters()``` te bekijken. De volledige lijst met attributen kun je bekijken met ```<datasetnaam>.show_attributes()```.\n",
    "\n",
    "* Gebruik de volgende filters:\n",
    "    1. Ensembl genen: ENSG00000123080, ENSG00000116574, ENSG00000125885, ENSG00000129355, ENSG00000183434, ENSG00000172201, ENSG00000206557, ENSG00000204086\n",
    "    2. Upstream flank van 200 bp.\n",
    "* En toon de volgende attributen:\n",
    "    1. Ensembl gene ID\n",
    "    2. Strand waarop het gen zit\n",
    "    3. Startpositie van het gen\n",
    "    4. Stoppositie van het gen\n",
    "    5. Transcript startpositie\n",
    "    6. 'Genomic coding' startpositie\n",
    "    7. Upstream flank van 200 bp \n",
    "\n",
    "De response van de query komt terug in de vorm van tab-delimited text."
   ]
  },
  {
   "cell_type": "code",
   "execution_count": null,
   "metadata": {
    "collapsed": true
   },
   "outputs": [],
   "source": []
  }
 ],
 "metadata": {
  "kernelspec": {
   "display_name": "Python 3",
   "language": "python",
   "name": "python3"
  },
  "language_info": {
   "codemirror_mode": {
    "name": "ipython",
    "version": 3
   },
   "file_extension": ".py",
   "mimetype": "text/x-python",
   "name": "python",
   "nbconvert_exporter": "python",
   "pygments_lexer": "ipython3",
   "version": "3.7.6"
  }
 },
 "nbformat": 4,
 "nbformat_minor": 2
}
