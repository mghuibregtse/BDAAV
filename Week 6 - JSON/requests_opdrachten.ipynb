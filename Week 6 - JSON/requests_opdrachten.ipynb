{
 "cells": [
  {
   "cell_type": "markdown",
   "metadata": {},
   "source": [
    "# Requests & JSON opdrachten\n",
    "\n",
    "## Listeria monocytogenes subtypen in de voedingsmiddelenindustrie\n",
    "\n",
    "Op het [LCAB](https://www.hsleiden.nl/lcab) werken we al een tijdje aan een [project](https://www.hsleiden.nl/actueel/nieuws/lcab/lcab-breidt-onderzoek-naar-voedselveiligheid-uit.html) waarin we *Listeria monocytogenes (L. mono)* besmettingen in de voedingsmiddelenindustrie in kaart brengen. Binnen dit project worden *L. mono* stammen gesequenced door middel van Nanopore sequencing zodat we de fylogenetische verbanden tussen samples kunnen vinden. Verder worden stammen getypeerd aan met bijvoorbeeld [Multi Locus Sequence Typing](https://pubmlst.org/multilocus-sequence-typing).\n",
    "\n",
    "De data van dit project is beschiknaar via een API, die programmatisch te benaderen is op http://145.97.18.244:8004 (link werk alleen het netwerk van de Hogeschool of via de HSLeiden VPN). De bijbehorende (interactieve) documentatie van de API endpoints kan je vinden op http://145.97.18.244:8004/docs.\n",
    "\n",
    "**Let op: alle PATCH/POST/DELETE operaties zijn uitgezet op deze API, je kunt dus geen data wijzigen**\n",
    "\n",
    "### Vraag 1.\n",
    "\n",
    "Bepaal de top-8 bedrijven met de meeste gesequencede *L. mono* samples. Gebruik daarvoor het `/sequencedata/` endpoint van de API. Toon, voor elk van deze bedrijven, alle MLST `sequence_types` die vaker dan 4 keer voorkomen, in een stacked barplot. \n",
    "\n",
    "Een voorbeeld van de verwachte output zie je hieronder (voor de top-4 bedrijven, waarbij het minimale aantal per MLST `sequence_type` op 9 staat).\n",
    "\n",
    "![image](mlst_stacked_barplot.png)\n"
   ]
  },
  {
   "cell_type": "code",
   "execution_count": null,
   "metadata": {},
   "outputs": [],
   "source": [
    "# maak hier vraag 1\n"
   ]
  },
  {
   "cell_type": "markdown",
   "metadata": {},
   "source": [
    "### Vraag 2.\n",
    "\n",
    "De genomen van de Listeria bacterien zijn in elkaar gezet door middel van een *de novo* assembly van de Nanopore sequence data. Het doel is om het genoom in één continue DNA sequentie te plaatsen. Dit lukt niet altijd, en dan valt de assembly uit elkaar in meerdere zogenaamde contigs.\n",
    "\n",
    "- Maak een histogram de verdeling van de groottes van *alle* contigs\n",
    "- Maak een histogram de verdeling van het aantal contigs per sample\n",
    "\n",
    "Toon deze twee plots naast elkaar. Verdeel de data in beide gevallen over 100 bins."
   ]
  },
  {
   "cell_type": "code",
   "execution_count": null,
   "metadata": {},
   "outputs": [],
   "source": [
    "# maak hier vraag 2\n"
   ]
  },
  {
   "cell_type": "markdown",
   "metadata": {},
   "source": [
    "### Vraag 3.\n",
    "\n",
    "Hoeveel `sequencedata` objecten in de database zijn van bedrijf `meat_A` of `fish_B`?\n",
    "\n",
    "- Gebruik hierbij het API endpoint `http://145.97.18.244:8004/sequencedata`. **Je mag niets toevoegen aan deze string in je request.**\n",
    "- Maak gebruik van`params`\n",
    "- Omdat we alleen geinteresseerd zijn in het aantal objecten (en niet de inhoud), zet je de parameter `namesonly` op `True`.\n"
   ]
  },
  {
   "cell_type": "code",
   "execution_count": null,
   "metadata": {},
   "outputs": [],
   "source": [
    "# maak hier vraag 3\n"
   ]
  },
  {
   "cell_type": "markdown",
   "metadata": {},
   "source": [
    "### Vraag 4.\n",
    "\n",
    "Welke samples zijn méér dan 1 keer gesequenced? *Hint: bekijk het sequencedata object. Bevat deze sample-informatie?*"
   ]
  },
  {
   "cell_type": "code",
   "execution_count": null,
   "metadata": {},
   "outputs": [],
   "source": [
    "# maak hier vraag 4.\n"
   ]
  },
  {
   "cell_type": "markdown",
   "metadata": {},
   "source": [
    "## De landen API\n",
    "\n",
    "Op [deze plek](https://restcountries.com/) staat een REST API waarmee je informatie op kan halen over landen.\n",
    "\n",
    "\n",
    "### Vraag 5. \n",
    "\n",
    "Schrijf code die voor een (door de gebruiker bepaalde) [subregio](https://unstats.un.org/unsd/methodology/m49/) bepaalt welk land in die subregio grenst aan de meeste landen. Als resultaat wordt er een string getoond met de subregio, de 3-lettercode van het land met de meeste buurlanden, en de vlaggen van alle buurlanden als emoji. Bijvoorbeeld:\n",
    "\n",
    "```\n",
    "Eastern Asia : CHN borders 🇷🇺🇹🇯🇰🇵🇲🇴🇻🇳🇲🇳🇲🇲🇵🇰🇧🇹🇰🇬🇳🇵🇮🇳🇱🇦🇭🇰🇦🇫🇰🇿\n",
    "```\n",
    "\n",
    "```\n",
    "Central America : GTM borders 🇲🇽🇸🇻🇧🇿🇭🇳\n",
    "```\n",
    "\n",
    "Een paar opmerkingen:\n",
    "- Je mag maximaal 2 requests doen\n",
    "- Als er meerdere landen evenveel buurlanden hebben, neem dan het land waarvan de 3-lettercode alfabetisch het eerste komt.\n",
    " \n",
    " *Uitdaging voor de programmeur die graag efficient werkt: formuleer je requests op een manier waardoor je alleen maar data ophaalt die je ook daadwerkelijk gaat gebruiken*"
   ]
  },
  {
   "cell_type": "code",
   "execution_count": null,
   "metadata": {},
   "outputs": [],
   "source": [
    "# Geef de regio op\n",
    "target_subregion = 'Western Europe'\n",
    "\n",
    "# Maak hier vraag 5. \n"
   ]
  }
 ],
 "metadata": {
  "kernelspec": {
   "display_name": "Python 3",
   "language": "python",
   "name": "python3"
  },
  "language_info": {
   "codemirror_mode": {
    "name": "ipython",
    "version": 3
   },
   "file_extension": ".py",
   "mimetype": "text/x-python",
   "name": "python",
   "nbconvert_exporter": "python",
   "pygments_lexer": "ipython3",
   "version": "3.12.0"
  }
 },
 "nbformat": 4,
 "nbformat_minor": 2
}
