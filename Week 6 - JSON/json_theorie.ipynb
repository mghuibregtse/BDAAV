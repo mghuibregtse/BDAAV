{
 "cells": [
  {
   "cell_type": "markdown",
   "metadata": {},
   "source": [
    "# Het `JSON` bestandsformaat\n",
    "\n",
    "## Complexe gestructureerde data\n",
    "\n",
    "De libraries `pandas` en `numpy` zijn ontzettend goed in het efficïent verwerken van data in een rectilinear formaat, zoals een driedimensionale `numpy` array van shape `(4,3,2)` daarin alleen `int` waarden, of een tweedimensionale `pandas` dataframe met daarin een paar kolommen van verschillende datatypes.\n",
    "\n",
    "Veel data is echter wél gestructureerd, maar past niet makkelijk in bovenstaande jasjes. Stel je de volgende situatie voor: je werkt met DNA sequenties van genen. Voor elke sequentie verzamel je de volgende data:\n",
    "\n",
    "- De sequentie zelf\n",
    "- De GENBANK identifier \n",
    "- Alle mogelijke Gene Ontology klassen, waarbij voor elke GO klasse de volgende data wordt verzameld:\n",
    "    - GO term ID, bijvoorbeeld `GO:0001221`\n",
    "    - GO ontology, bijvoorbeeld `molecular_function`\n",
    "    - Naam van de GO term, bijvoorbeeld `transcription coregulator binding`\n",
    "- Alle mogelijke KEGG pathways, waarbij voor elke pathway de volgende data wordt verzameld::\n",
    "    - KEGG ID, bijvoorbeeld `map03022`\n",
    "    - KEGG naam, bijvoorbeeld `Basal transcription factors`\n",
    "    - lijst met alle aanwezige genproducten in deze pathway, zoals `TFIIA1,TFIIA2,TFIIB,...,MAT1`\n",
    "\n",
    "Dit is een typisch voorbeeld van complexe gestructureerde data. Je weet vantevoren wel hoe de data er ongeveer uitziet, maar niet precies. Het is bijvoorbeeld goed mogelijk dat `gen_1` een annotatie heeft met 6 GO klassen, terwijl `gen_2` er 37 heeft. Het is ook mogelijk dat er geen GO annotatie beschikbaar is. Iets vergelijkbaars geldt de lijst met genproducten voor een KEGG pathway. \n",
    "\n",
    "\n",
    "Enig idee hoe je dit in `numpy` of `pandas` zou kunnen implementeren? Zo ja, dan hoor ik dat graag 🤔 🧐 ...\n",
    "\n",
    "## Complexe gestructureerde data in Python\n",
    "\n",
    "Als je het bovenstaande complexe datavoorbeeld in Python zou moeten implementeren, denk je waarschijnlijk al gauw in de richting van een zelfgeschreven Python klasse of een nested datastructuur gebaseerd op dictionaries. In beide gevallen spreken we feitelijk van een custom data **object**. \n",
    "\n",
    "Een voorbeelduitwerking van dit complexe datatype in standaard Python datatypes staat in het codeblok hieronder. Zoals je ziet heeft `gen_1` hier drie GO annotaties, en één KEGG annotatie. \n"
   ]
  },
  {
   "cell_type": "code",
   "execution_count": 3,
   "metadata": {},
   "outputs": [
    {
     "name": "stdout",
     "output_type": "stream",
     "text": [
      "{'sequentie': 'ATGTAATCGTTAAGCAATCTAT', 'genbank_id': 1293613, 'GO': [{'id': 'GO:0001221', 'ontology': 'molecular_function', 'name': 'transcription coregulator binding'}, {'id': 'GO:0001222', 'ontology': 'molecular_function', 'name': 'transcription corepressor binding'}, {'id': 'GO:0008134', 'ontology': 'molecular_function', 'name': 'transcription factor binding'}], 'KEGG': [{'id': 'map03022', 'name': 'Basal transcription factors', 'gene_products': ['TFIIA1', 'TFIIA2', 'MAT1']}]}\n",
      "Aantal GO klassen: 3\n",
      "Aantal KEGG klassen: 1\n"
     ]
    }
   ],
   "source": [
    "\n",
    "gen_1 = {\n",
    "    \"sequentie\" : \"ATGTAATCGTTAAGCAATCTAT\",\n",
    "    \"genbank_id\" : 1293613,\n",
    "    \"GO\" : [\n",
    "        {\n",
    "            \"id\" : \"GO:0001221\",\n",
    "            \"ontology\" : \"molecular_function\",\n",
    "            \"name\" : \"transcription coregulator binding\"\n",
    "        },\n",
    "        {\n",
    "            \"id\" : \"GO:0001222\",\n",
    "            \"ontology\" : \"molecular_function\",\n",
    "            \"name\" : \"transcription corepressor binding\"\n",
    "        },\n",
    "        {\n",
    "            \"id\" : \"GO:0008134\",\n",
    "            \"ontology\" : \"molecular_function\",\n",
    "            \"name\" : \"transcription factor binding\"\n",
    "        }\n",
    "    ],\n",
    "    \"KEGG\" : [\n",
    "        {\n",
    "            \"id\" : \"map03022\",\n",
    "            \"name\" : \"Basal transcription factors\",\n",
    "            \"gene_products\" : [\"TFIIA1\", \"TFIIA2\", \"MAT1\"]\n",
    "        }\n",
    "    ]\n",
    "}\n",
    "\n",
    "print(gen_1)\n",
    "print(f\"Aantal GO klassen: {len(gen_1['GO'])}\")\n",
    "print(f\"Aantal KEGG klassen: {len(gen_1['KEGG'])}\")\n"
   ]
  },
  {
   "cell_type": "markdown",
   "metadata": {},
   "source": [
    "## `JSON`: de *de facto* standaard voor het uitwisselen van complexe data \n",
    "\n",
    "Het [JSON](https://en.wikipedia.org/wiki/JSON) format is een open standard bestandsformaat die het mogelijk maakt complexe datastructuren op te slaan en te delen. JSON staat voor **J**ava**S**cript **O**bject **N**otation, en is sinds zijn ontstaan uitgegroeid tot dé standaard voor het delen van complexe datastructuren, en wordt zeer veel gebruikt in het delen van data via webservers zoals APIs (hierover later meer). Het JSON format wordt ondersteund door alle grote programmeertalen.\n",
    "\n",
    "Een voorbeeld van een `json` data-object staat hieronder:\n",
    "\n",
    "```json\n",
    "{\n",
    "  \"first_name\": \"John\",\n",
    "  \"last_name\": \"Smith\",\n",
    "  \"is_alive\": true,\n",
    "  \"age\": 27,\n",
    "  \"address\": {\n",
    "    \"street_address\": \"21 2nd Street\",\n",
    "    \"city\": \"New York\",\n",
    "    \"state\": \"NY\",\n",
    "    \"postal_code\": \"10021-3100\"\n",
    "  },\n",
    "  \"phone_numbers\": [\n",
    "    {\n",
    "      \"type\": \"home\",\n",
    "      \"number\": \"212 555-1234\"\n",
    "    },\n",
    "    {\n",
    "      \"type\": \"office\",\n",
    "      \"number\": \"646 555-4567\"\n",
    "    }\n",
    "  ],\n",
    "  \"children\": [\n",
    "    \"Catherine\",\n",
    "    \"Thomas\",\n",
    "    \"Trevor\"\n",
    "  ],\n",
    "  \"spouse\": null\n",
    "}\n",
    "```\n",
    "\n",
    "Dat lijkt verdacht veel op een Python dictionary, nietwaar?\n",
    "\n"
   ]
  },
  {
   "cell_type": "markdown",
   "metadata": {},
   "source": [
    "## Werken met `json` in Python\n",
    "\n",
    "### De standaard `json` library\n",
    "\n",
    "Support voor het werken met `json` data zit in [de standaard `json` library](https://docs.python.org/3/library/json.html). Zoek uit hoe je `json` bestanden in kan lezen en kan maken, en hoe je van Python objecten naar `json` strings kan gaan en vice-versa.\n",
    "\n",
    " Voor een overzicht van de mappings van Python datatypes naar JSON datatypes, en vice-versa, zie [deze tutorial op TowardsDataScience.com](https://towardsdatascience.com/working-with-json-data-in-python-45e25ff958ce). Let op: in `JSON` zijn alle keys strings.\n",
    "\n",
    "### Opdracht 1\n",
    "\n",
    "Maak een lijst van 100 studenten. Gebruik daarvoor de reeds gegeven functie `maak_student()`. Sla deze lijst met studenten op als een `json` bestand met de naam `100_studenten.json`.\n"
   ]
  },
  {
   "cell_type": "code",
   "execution_count": 4,
   "metadata": {},
   "outputs": [],
   "source": [
    "def maak_student():\n",
    "    \"\"\"\n",
    "    Simuleer studiegegevens van een student\n",
    "    \"\"\"\n",
    "    from random import randint, choice\n",
    "    student = {'studentnummer' : f\"s{randint(10000000,19999999)}\"}\n",
    "    cijferlijst = [randint(10,100)/10 for _ in range(randint(0,10))]\n",
    "    student['geslaagd'] = choice([True, False])\n",
    "    \n",
    "    if cijferlijst: # Er is minimaal 1 cijfer bekend\n",
    "        student['cijferlijst'] = cijferlijst\n",
    "    else:\n",
    "        student['geslaagd'] = False\n",
    "    return student\n",
    "\n",
    "# maak vanaf hier de opdracht"
   ]
  },
  {
   "cell_type": "markdown",
   "metadata": {},
   "source": [
    "### Opdracht 2\n",
    "\n",
    "Laad het `json` bestand `100_studenten.json` in. Analyseer de resultaten van de studenten en maak een lijst met het studentnummer en het gemiddelde cijfer van alle studenten die nog niet geslaagd zijn. Bijvoorbeeld:\n",
    "\n",
    "```python\n",
    "[ \n",
    "    ('s11709801', 7.3),\n",
    "    ('s17231126', 4.733333333333333),\n",
    "    ('s10968660', 4.5625)\n",
    " ]\n",
    " ```\n",
    "\n",
    "Schrijf deze lijst weg als `json` bestand genaamd `voortgang_rapportage.json`."
   ]
  },
  {
   "cell_type": "code",
   "execution_count": null,
   "metadata": {},
   "outputs": [],
   "source": [
    "\n"
   ]
  },
  {
   "cell_type": "markdown",
   "metadata": {},
   "source": [
    "\n",
    "\n",
    "### `json` support in `pandas`\n",
    "\n",
    "De `pandas` library heeft een aantal methoden om `json` data te kunnen verwerken en produceren. Bijvoorbeeld [`pandas.read_json()`](https://pandas.pydata.org/docs/reference/api/pandas.read_json.html) of [`pandas.Dataframe.to_json`](https://pandas.pydata.org/docs/reference/api/pandas.DataFrame.to_json.html). Let echter wel op: niet alle `json` data kan je zomaar inladen in een Dataframe! Immers, `json` data is niet altijd \"plat\" te slaan tot een 2D tabelvorm. Een zeer handige methode om controle uit te oefenen op hoe de `json` conversie naar `pandas.Dataframe` wordt uitgevoerd, is [`pandas.json_normalize()`](https://pandas.pydata.org/docs/reference/api/pandas.json_normalize.html). Onderzoek hoe deze methode werkt.\n",
    "\n",
    "\n",
    "### Opdracht 3\n",
    "\n",
    "Laad het `json` bestand `100_studenten.json` in een Pandas dataframe. Herhaal opdracht 2 zonder gebruik te maken van de standaard `json` library. Gebruik de `Dataframe.to_json()` methode om de resultaten weg te schrijven naar het bestand `voortgang_rapportage_pandas.json`. Wat is het verschil tussen de resultaatbestanden uit Opdracht 2 en Opdracht 3? Kan je de uitvoer van `Dataframe.to_json()` zo instellen, dat de resultaten tussen Opdracht 2 en 3 gelijk zijn?\n"
   ]
  },
  {
   "cell_type": "code",
   "execution_count": null,
   "metadata": {},
   "outputs": [],
   "source": []
  },
  {
   "cell_type": "markdown",
   "metadata": {},
   "source": [
    "\n",
    "### `awkward` arrays \n",
    "\n",
    "**Let op: pittig onderwerp! wordt niet getoetst, voor de liefhebbers**\n",
    "\n",
    "Een zeer krachtig library is de [Awkward Array](https://awkward-array.org/doc/main/index.html). Deze library staat het toe te werken met ragged arrays. Je kan dan `numpy`-achtige bewerkingen uitvoeren op data die niet netjes in een N-dimensionale array past. Awkward arrays ondersteunt het lezen en schrijven van `json` objecten: zie [deze pagina](https://awkward-array.org/doc/main/user-guide/how-to-convert-json.html)."
   ]
  }
 ],
 "metadata": {
  "kernelspec": {
   "display_name": "Python 3",
   "language": "python",
   "name": "python3"
  },
  "language_info": {
   "codemirror_mode": {
    "name": "ipython",
    "version": 3
   },
   "file_extension": ".py",
   "mimetype": "text/x-python",
   "name": "python",
   "nbconvert_exporter": "python",
   "pygments_lexer": "ipython3",
   "version": "3.12.0"
  }
 },
 "nbformat": 4,
 "nbformat_minor": 2
}
