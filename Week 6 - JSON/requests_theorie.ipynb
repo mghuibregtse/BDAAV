{
 "cells": [
  {
   "cell_type": "markdown",
   "metadata": {},
   "source": [
    "## De `requests` library\n",
    "\n",
    "Op het internet zijn heel veel databronnen te vinden. Vaak is het mogelijk om deze databronnen te benaderen via een **Application Programming Interface** ofwel **API**. APIs zijn over het algemeen te benaderen via het `HTTP(s)` protocol. Om vanuit je python code met een externe API te praten, kun je gebruik maken van de `requests` library. De documentatie vind je [hier](https://requests.readthedocs.io/en/latest/).\n",
    "\n",
    "De `requests` library ondersteunt alle belangrijke [HTTP request methods](https://developer.mozilla.org/en-US/docs/Web/HTTP/Methods). Hieronder staan de meest gebruikte methoden weergegeven\n",
    "- `GET` voor het ophalen van een web resource\n",
    "- `POST` voor het submitten van data naar een web resource\n",
    "- `PUT` voor het submitten van data naar een web resource (idempotent)\n",
    "- `PATCH` voor het gedeeltelijk aanpassen van een web resource\n",
    "- `DELETE` voor het verwijderen van een web resource\n",
    "\n",
    "Zoals al eerder gezegd is `json` een dataformat die door veel APIs wordt gebruikt om data heen en weer te sturen tussen een script en het API endpoint. Hier zullen jullie in de opgaven mee gaan oefenen.\n",
    "\n",
    "### Een eenvoudig voorbeeld\n",
    "\n",
    "Hieronder gebruiken we `requests` om een \"normale\" webpagina op te halen (dit is dus geen API). We printen daarna de headers en de status code van de response"
   ]
  },
  {
   "cell_type": "code",
   "execution_count": null,
   "metadata": {},
   "outputs": [],
   "source": [
    "import requests\n",
    "response = requests.get(\"https://www.nos.nl\")\n",
    "print(response.status_code)\n",
    "print(response.headers)"
   ]
  },
  {
   "cell_type": "markdown",
   "metadata": {},
   "source": [
    "### Posten van data naar een web API\n",
    "\n",
    "Op [httpbin](https://httpbin.org) staat een hele simpele test-API die je kunt gebruiken. Laten we een dictionary met data via een `POST` request naar de API sturen.\n"
   ]
  },
  {
   "cell_type": "code",
   "execution_count": null,
   "metadata": {},
   "outputs": [],
   "source": [
    "resultaten = {'cijferlijst':[8,7.2,9], 'diploma': False}\n",
    "\n",
    "response = requests.post('https://httpbin.org/post', data=resultaten)\n",
    "print(response.status_code)\n",
    "response.json()"
   ]
  },
  {
   "cell_type": "markdown",
   "metadata": {},
   "source": [
    "## Uitgebreider voorbeeld\n",
    "\n",
    "Bekijk de [Random Data API](https://random-data-api.com/documentation). Hieronder een wat uitgebreider voorbeeld waarbij:\n",
    "\n",
    "- Er parameters meegegeven worden aan de request\n",
    "- Er gecontroleerd wordt of de status van de response OK is\n",
    "- De volledige URL (op basis van de meegegeven parameters) wordt getoond\n",
    "- De JSON response wordt geparsed\n",
    "- De avatar van de laatste user wordt getoond"
   ]
  },
  {
   "cell_type": "code",
   "execution_count": null,
   "metadata": {},
   "outputs": [],
   "source": [
    "import json\n",
    "\n",
    "payload = {'size': 20, \"response_type\": 'json'}\n",
    "\n",
    "response = requests.get(\"https://random-data-api.com/api/v2/users\", params=payload)\n",
    "assert response.status_code == 200\n",
    "print(\"De opgevraagde URL was:\", response.url)\n",
    "\n",
    "users = response.json()\n",
    "print(\"Het aantal ontvangen records is\", len(users))\n",
    "\n",
    "laatste_user = users[-1]\n",
    "print(\"Het laatste record is:\\n\", json.dumps(laatste_user, indent=4))\n",
    "\n",
    "from IPython.display import Image\n",
    "Image(url=laatste_user['avatar'])"
   ]
  },
  {
   "cell_type": "markdown",
   "metadata": {},
   "source": [
    "## Wat is belangrijk om te weten?\n",
    "\n",
    "Voor \"huis-tuin-en-keuken\" gebruik hoef je niet veel methoden van de `requests` library te kennen. Verdiep jezelf vooral in:\n",
    "\n",
    "- Hoe je data mee kunt geven aan requests\n",
    "- Wat voor data je aantreft in het [`Response` object](https://requests.readthedocs.io/en/latest/api.html#requests.Response)\n",
    "- De [response status codes](https://requests.readthedocs.io/en/latest/api.html#status-code-lookup).\n",
    "\n",
    "\n",
    "Meer geavanceerde onderwerpen:\n",
    "\n",
    "- [Authenticatie](https://requests.readthedocs.io/en/latest/user/authentication.html) (in het geval van API's waar je een account nodig hebt/die niet anoniem te gebruiken zijn).\n",
    "- [`Session` objecten](https://requests.readthedocs.io/en/latest/user/advanced.html#session-objects) zijn handig als je veelvuldig requests doet bij dezelfde host.\n",
    "\n"
   ]
  }
 ],
 "metadata": {
  "kernelspec": {
   "display_name": "Python 3",
   "language": "python",
   "name": "python3"
  },
  "language_info": {
   "codemirror_mode": {
    "name": "ipython",
    "version": 3
   },
   "file_extension": ".py",
   "mimetype": "text/x-python",
   "name": "python",
   "nbconvert_exporter": "python",
   "pygments_lexer": "ipython3",
   "version": "3.12.0"
  }
 },
 "nbformat": 4,
 "nbformat_minor": 2
}
