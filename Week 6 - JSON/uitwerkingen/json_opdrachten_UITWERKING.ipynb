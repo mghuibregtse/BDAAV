{
 "cells": [
  {
   "cell_type": "markdown",
   "metadata": {},
   "source": [
    "\n",
    "## SARS-COV-2 subtypes\n",
    "\n",
    "### Vraag 1.\n",
    "\n",
    "In het bestand `sars-cov-2-reports.json` staan 10.000 reports van sars-cov-2 isolaten. Selecteer alle subtypes die meer dan 100 keer voorkomen in deze dataset, en plot voor de gevonden subtypes de hoeveelheid samples per subtype in een barplot. Het subtype kan je vinden in het veld `pangolin_classification`.\n",
    "\n",
    "*bron: NCBI. Gedownload met het commando `datasets summary virus genome taxon sars-cov-2 --limit 10000`*\n",
    "\n"
   ]
  },
  {
   "cell_type": "code",
   "execution_count": null,
   "metadata": {},
   "outputs": [],
   "source": [
    "import pandas as pd\n",
    "import json\n",
    "\n",
    "with open(\"sars-cov-2-reports.json\") as fh:\n",
    "    sarscov2 = json.load(fh)\n",
    "sarscov2 = pd.json_normalize(sarscov2)\n",
    "sarscov2type = sarscov2.groupby(\"virus.pangolin_classification\").size()\n",
    "sarscov2type[sarscov2type > 100].plot(kind='bar')"
   ]
  },
  {
   "cell_type": "markdown",
   "metadata": {},
   "source": [
    "## Pokedex\n",
    "\n",
    "Wat zou een programmeeropdracht zijn zonder Pokémon? In de folder met opdrachten staat het bestand `pokedex.json` ([bron](https://github.com/Purukitto/pokemon-data.json/blob/master/pokedex.json)). Gebruik deze voor het maken van de volgende vragen.\n",
    "\n",
    "### Vraag 1.\n",
    "\n",
    "Selecteer een random Pokémon uit `pokedex.json` en toon daarvan de `hires` image."
   ]
  },
  {
   "cell_type": "code",
   "execution_count": null,
   "metadata": {},
   "outputs": [],
   "source": [
    "# Deze import heb je nodig om een plaatje te kunnen weergeven vanuit een URL\n",
    "from IPython.display import Image\n",
    "\n",
    "from random import sample\n",
    "import matplotlib.pyplot as plt\n",
    "\n",
    "\n",
    "\n",
    "with open(\"pokedex.json\") as fh:\n",
    "    pokedex = json.load(fh)\n",
    "\n",
    "random_pokemon = sample(pokedex, 1)[0]\n",
    "\n",
    "Image(url=random_pokemon[\"image\"][\"hires\"])\n"
   ]
  },
  {
   "cell_type": "markdown",
   "metadata": {},
   "source": [
    "### Vraag 2.\n",
    "\n",
    "Je wilt graag weten bij welk Level de meeste Pokémon evolueren. Maak een bar chart met daarin het aantal evoluties per Level. Toon alleen de levels waarin minimaal 5 Pokémon evolueren. Sorteer je bar chart van meeste evoluties -> minste evoluties."
   ]
  },
  {
   "cell_type": "code",
   "execution_count": 5,
   "metadata": {
    "ExecuteTime": {
     "end_time": "2024-01-30T21:22:57.766620300Z",
     "start_time": "2024-01-30T21:22:56.286713Z"
    }
   },
   "outputs": [
    {
     "name": "stderr",
     "output_type": "stream",
     "text": [
      "C:\\Users\\mathi\\AppData\\Local\\Temp\\ipykernel_26604\\3656733367.py:3: DeprecationWarning: \n",
      "Pyarrow will become a required dependency of pandas in the next major release of pandas (pandas 3.0),\n",
      "(to allow more performant data types, such as the Arrow string type, and better interoperability with other libraries)\n",
      "but was not found to be installed on your system.\n",
      "If this would cause problems for you,\n",
      "please provide us feedback at https://github.com/pandas-dev/pandas/issues/54466\n",
      "        \n",
      "  import pandas as pd\n"
     ]
    },
    {
     "data": {
      "text/plain": "<Axes: >"
     },
     "execution_count": 5,
     "metadata": {},
     "output_type": "execute_result"
    },
    {
     "data": {
      "text/plain": "<Figure size 640x480 with 1 Axes>",
      "image/png": "[encoded data removed]"
     },
     "metadata": {},
     "output_type": "display_data"
    }
   ],
   "source": [
    "# Iets met tonen bij welke levels er evoluties zijn?\n",
    "import json\n",
    "import pandas as pd\n",
    "with open(\"pokedex.json\", encoding=\"utf8\") as fh:\n",
    "    pokedex = json.load(fh)\n",
    "\n",
    "jumps = {}\n",
    "\n",
    "for pok in pokedex:\n",
    "    evolist = pok['evolution'].get(\"next\", None)\n",
    "    if evolist:\n",
    "        for evo in evolist:\n",
    "            _, level = evo\n",
    "            try:\n",
    "                jumps[level] += 1\n",
    "            except:\n",
    "                jumps[level] = 1\n",
    "\n",
    "evolution_stages = pd.DataFrame.from_dict(data=jumps, orient='index',columns=[\"aantal\"])\n",
    "evolution_stages.query('aantal > 5 & index.str.startswith(\"Level\")').sort_values(by=\"aantal\", ascending=False).plot(kind=\"bar\")\n"
   ]
  },
  {
   "cell_type": "code",
   "execution_count": null,
   "outputs": [],
   "source": [],
   "metadata": {
    "collapsed": false
   }
  }
 ],
 "metadata": {
  "kernelspec": {
   "display_name": "Python 3",
   "language": "python",
   "name": "python3"
  },
  "language_info": {
   "codemirror_mode": {
    "name": "ipython",
    "version": 3
   },
   "file_extension": ".py",
   "mimetype": "text/x-python",
   "name": "python",
   "nbconvert_exporter": "python",
   "pygments_lexer": "ipython3",
   "version": "3.12.0"
  }
 },
 "nbformat": 4,
 "nbformat_minor": 2
}
